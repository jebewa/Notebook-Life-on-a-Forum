{
 "cells": [
  {
   "cell_type": "markdown",
   "metadata": {
    "slideshow": {
     "slide_type": "slide"
    }
   },
   "source": [
    "# ISI final assignment: Life on a forum - User Demographics and behaviour"
   ]
  },
  {
   "cell_type": "markdown",
   "metadata": {
    "slideshow": {
     "slide_type": "fragment"
    }
   },
   "source": [
    "Tim Munters,\n",
    "Bert Van Poeck\n",
    "\n",
    "https://github.com/jebewa/Notebook-Life-on-a-Forum"
   ]
  },
  {
   "cell_type": "markdown",
   "metadata": {
    "slideshow": {
     "slide_type": "slide"
    }
   },
   "source": [
    "### Libraries and packages"
   ]
  },
  {
   "cell_type": "code",
   "execution_count": 4,
   "metadata": {
    "collapsed": true,
    "slideshow": {
     "slide_type": "fragment"
    }
   },
   "outputs": [],
   "source": [
    "import mysql.connector\n",
    "import getpass\n",
    "from IPython.display import display\n",
    "import pandas as pd\n",
    "import matplotlib.pyplot as plt\n",
    "import json\n",
    "import numpy as np"
   ]
  },
  {
   "cell_type": "code",
   "execution_count": 5,
   "metadata": {
    "collapsed": false,
    "slideshow": {
     "slide_type": "skip"
    }
   },
   "outputs": [
    {
     "name": "stdout",
     "output_type": "stream",
     "text": [
      "········\n"
     ]
    }
   ],
   "source": [
    "pwd=getpass.getpass()\n",
    "usrname='Tim' #your username \n",
    "conn = mysql.connector.connect(host=\"127.0.0.1\", user=usrname, passwd=pwd, db=\"forum2\")\n",
    "cursor = conn.cursor(buffered=True)"
   ]
  },
  {
   "cell_type": "code",
   "execution_count": 6,
   "metadata": {
    "collapsed": true,
    "slideshow": {
     "slide_type": "skip"
    }
   },
   "outputs": [],
   "source": [
    "cursor.execute(\"USE forum2\");"
   ]
  },
  {
   "cell_type": "markdown",
   "metadata": {
    "slideshow": {
     "slide_type": "slide"
    }
   },
   "source": [
    "- the age distribution of the users on the statistic forum\n",
    "   \n",
    "- the possible correlation between the age of users and the amount of comments they post\n",
    "   \n",
    "- the possible correlation between the age of users and the length of comments they post\n",
    "   \n",
    "- the possible correlation between the age of users and the amount of submitted posts\n",
    "   \n",
    "- the geographical distribution of users per age group"
   ]
  },
  {
   "cell_type": "markdown",
   "metadata": {
    "slideshow": {
     "slide_type": "skip"
    }
   },
   "source": [
    "What kind of information can you retrieve about users on a statistics forum? What can you learn in terms of their life in and outside of the forum?\n",
    "\n",
    "The following paper will investigate user demographics on a statistic forum. More specifically, we aim to investigate the correlations between the users' age, amount of posting, and commenting behaviour. Furtermore, we will also examine the geographical distribution of the forum's users. \n",
    "To discover more about the users' activity on the forum, we will group users by age, e.g. age group 1: 0-9, age group 2: 10-19, et cetera.\n",
    "\n",
    "In other words, we will examine:\n",
    "- the age distribution of the users on the statistic forum\n",
    "- the possible correlation between the age of users and the amount of comments they post\n",
    "- the possible correlation between the age of users and the length of comments they post\n",
    "- the possible correlation between the age of users and the amount of submitted posts\n",
    "- the geographical distribution of users per age group\n",
    "\n",
    "During our research we encountered one major challenge: a large amount of NULL-values. Although it is possible to retrieve information about users' age or location where the value is NULL, for example, by text-mining their introduction text and posts, we only utilised data of users that had valid entries for these two variables, i.e. we excluded NULL values from our dataset.\n",
    "However, we would like to note that there is a chance that even valid age and location entries are not always completely truthful. This research will demonstrate that there are ways of to establish the veracity of user and the personal information they provide online.\n",
    "\n",
    "A first set of queries will show the amount of users per age group that actually have got a numeric value for their age field."
   ]
  },
  {
   "cell_type": "code",
   "execution_count": 4,
   "metadata": {
    "collapsed": true,
    "slideshow": {
     "slide_type": "skip"
    }
   },
   "outputs": [],
   "source": [
    "sql_query1 =\"\"\"\n",
    "select age, count(*) from users where age is not NULL group by age\n",
    "\"\"\""
   ]
  },
  {
   "cell_type": "code",
   "execution_count": 5,
   "metadata": {
    "collapsed": false,
    "slideshow": {
     "slide_type": "skip"
    }
   },
   "outputs": [
    {
     "data": {
      "text/html": [
       "<div>\n",
       "<table border=\"1\" class=\"dataframe\">\n",
       "  <thead>\n",
       "    <tr style=\"text-align: right;\">\n",
       "      <th></th>\n",
       "      <th>age</th>\n",
       "      <th>count(*)</th>\n",
       "    </tr>\n",
       "  </thead>\n",
       "  <tbody>\n",
       "    <tr>\n",
       "      <th>0</th>\n",
       "      <td>13</td>\n",
       "      <td>1</td>\n",
       "    </tr>\n",
       "    <tr>\n",
       "      <th>1</th>\n",
       "      <td>14</td>\n",
       "      <td>4</td>\n",
       "    </tr>\n",
       "    <tr>\n",
       "      <th>2</th>\n",
       "      <td>15</td>\n",
       "      <td>7</td>\n",
       "    </tr>\n",
       "    <tr>\n",
       "      <th>3</th>\n",
       "      <td>16</td>\n",
       "      <td>11</td>\n",
       "    </tr>\n",
       "    <tr>\n",
       "      <th>4</th>\n",
       "      <td>17</td>\n",
       "      <td>11</td>\n",
       "    </tr>\n",
       "  </tbody>\n",
       "</table>\n",
       "</div>"
      ],
      "text/plain": [
       "   age  count(*)\n",
       "0   13         1\n",
       "1   14         4\n",
       "2   15         7\n",
       "3   16        11\n",
       "4   17        11"
      ]
     },
     "execution_count": 5,
     "metadata": {},
     "output_type": "execute_result"
    }
   ],
   "source": [
    "df1 = pd.read_sql(sql_query1, conn)\n",
    "df1.head()"
   ]
  },
  {
   "cell_type": "markdown",
   "metadata": {
    "slideshow": {
     "slide_type": "skip"
    }
   },
   "source": [
    "Next, we wanted to establish our age groups. With the following query we gathered the different age groups and their size:"
   ]
  },
  {
   "cell_type": "markdown",
   "metadata": {
    "slideshow": {
     "slide_type": "slide"
    }
   },
   "source": [
    "## Different age groups and their size"
   ]
  },
  {
   "cell_type": "code",
   "execution_count": 25,
   "metadata": {
    "collapsed": true,
    "slideshow": {
     "slide_type": "subslide"
    }
   },
   "outputs": [],
   "source": [
    "sql_query2 =\"\"\"\n",
    "SELECT SUM(CASE WHEN Age < 9 THEN 1 ELSE 0 END) AS 'Under 9',\n",
    "        SUM(CASE WHEN Age Between 10 AND 19 THEN 1 ELSE 0 END) AS '10-19',\n",
    "        SUM(CASE WHEN Age BETWEEN 20 AND 29 THEN 1 ELSE 0 END) AS '20-29',\n",
    "        SUM(CASE WHEN Age BETWEEN 30 AND 39 THEN 1 ELSE 0 END) AS '30-39',\n",
    "        SUM(CASE WHEN Age BETWEEN 40 AND 49 THEN 1 ELSE 0 END) AS '40-49',\n",
    "        SUM(CASE WHEN Age BETWEEN 50 and 59 THEN 1 ELSE 0 END) AS '50-59',\n",
    "        SUM(CASE WHEN Age BETWEEN 60 and 69 THEN 1 ELSE 0 END) AS '60-69',\n",
    "        SUM(CASE WHEN Age BETWEEN 70 and 79 THEN 1 ELSE 0 END) AS '70-79',\n",
    "        SUM(CASE WHEN Age BETWEEN 80 and 89 THEN 1 ELSE 0 END) AS '80-89',\n",
    "        SUM(CASE WHEN Age BETWEEN 90 and 99 THEN 1 ELSE 0 END) AS '90-99'\n",
    "FROM users\n",
    "\"\"\""
   ]
  },
  {
   "cell_type": "code",
   "execution_count": 26,
   "metadata": {
    "collapsed": false,
    "slideshow": {
     "slide_type": "fragment"
    }
   },
   "outputs": [
    {
     "data": {
      "text/html": [
       "<div>\n",
       "<table border=\"1\" class=\"dataframe\">\n",
       "  <thead>\n",
       "    <tr style=\"text-align: right;\">\n",
       "      <th></th>\n",
       "      <th>Under 9</th>\n",
       "      <th>10-19</th>\n",
       "      <th>20-29</th>\n",
       "      <th>30-39</th>\n",
       "      <th>40-49</th>\n",
       "      <th>50-59</th>\n",
       "      <th>60-69</th>\n",
       "      <th>70-79</th>\n",
       "      <th>80-89</th>\n",
       "      <th>90-99</th>\n",
       "    </tr>\n",
       "  </thead>\n",
       "  <tbody>\n",
       "    <tr>\n",
       "      <th>0</th>\n",
       "      <td>0.0</td>\n",
       "      <td>114.0</td>\n",
       "      <td>3951.0</td>\n",
       "      <td>3177.0</td>\n",
       "      <td>764.0</td>\n",
       "      <td>188.0</td>\n",
       "      <td>51.0</td>\n",
       "      <td>17.0</td>\n",
       "      <td>2.0</td>\n",
       "      <td>54.0</td>\n",
       "    </tr>\n",
       "  </tbody>\n",
       "</table>\n",
       "</div>"
      ],
      "text/plain": [
       "   Under 9  10-19   20-29   30-39  40-49  50-59  60-69  70-79  80-89  90-99\n",
       "0      0.0  114.0  3951.0  3177.0  764.0  188.0   51.0   17.0    2.0   54.0"
      ]
     },
     "execution_count": 26,
     "metadata": {},
     "output_type": "execute_result"
    }
   ],
   "source": [
    "df1 = pd.read_sql(sql_query2, conn)\n",
    "df1.head()"
   ]
  },
  {
   "cell_type": "code",
   "execution_count": 27,
   "metadata": {
    "collapsed": false,
    "slideshow": {
     "slide_type": "skip"
    }
   },
   "outputs": [],
   "source": [
    "df1=df1.T"
   ]
  },
  {
   "cell_type": "code",
   "execution_count": 28,
   "metadata": {
    "collapsed": false,
    "slideshow": {
     "slide_type": "skip"
    }
   },
   "outputs": [
    {
     "data": {
      "text/html": [
       "<div>\n",
       "<table border=\"1\" class=\"dataframe\">\n",
       "  <thead>\n",
       "    <tr style=\"text-align: right;\">\n",
       "      <th></th>\n",
       "      <th>0</th>\n",
       "    </tr>\n",
       "  </thead>\n",
       "  <tbody>\n",
       "    <tr>\n",
       "      <th>Under 9</th>\n",
       "      <td>0.0</td>\n",
       "    </tr>\n",
       "    <tr>\n",
       "      <th>10-19</th>\n",
       "      <td>114.0</td>\n",
       "    </tr>\n",
       "    <tr>\n",
       "      <th>20-29</th>\n",
       "      <td>3951.0</td>\n",
       "    </tr>\n",
       "    <tr>\n",
       "      <th>30-39</th>\n",
       "      <td>3177.0</td>\n",
       "    </tr>\n",
       "    <tr>\n",
       "      <th>40-49</th>\n",
       "      <td>764.0</td>\n",
       "    </tr>\n",
       "  </tbody>\n",
       "</table>\n",
       "</div>"
      ],
      "text/plain": [
       "              0\n",
       "Under 9     0.0\n",
       "10-19     114.0\n",
       "20-29    3951.0\n",
       "30-39    3177.0\n",
       "40-49     764.0"
      ]
     },
     "execution_count": 28,
     "metadata": {},
     "output_type": "execute_result"
    }
   ],
   "source": [
    "df1.head()"
   ]
  },
  {
   "cell_type": "code",
   "execution_count": 32,
   "metadata": {
    "collapsed": false,
    "slideshow": {
     "slide_type": "slide"
    }
   },
   "outputs": [
    {
     "data": {
      "text/plain": [
       "<matplotlib.figure.Figure at 0xabcc978>"
      ]
     },
     "metadata": {},
     "output_type": "display_data"
    },
    {
     "data": {
      "image/png": "[encoded data removed]",
      "text/plain": [
       "<matplotlib.figure.Figure at 0xc087ba8>"
      ]
     },
     "metadata": {},
     "output_type": "display_data"
    }
   ],
   "source": [
    "plt.figure()\n",
    "ax1 = df1[[0]].plot(kind='bar', title =\"Age Distribution\", figsize=(12, 7), legend=False,\n",
    "fontsize=9)\n",
    "plt.show()"
   ]
  },
  {
   "cell_type": "markdown",
   "metadata": {
    "slideshow": {
     "slide_type": "skip"
    }
   },
   "source": [
    "As the tables and plot show, the bulk of the forum consists of users whose age ranges from 20 to 39. A possible explanation is that the users in this age range often face statistical challenges due to their work or because they enrolled in an educational programme where statistics is an important part of the curriculum. \n",
    "It is also possible that users within this age range are more likely to use \"digital\" means of communicating, such as an online forum, for problem solving due to their familiarity with it than users from higher age ranges."
   ]
  },
  {
   "cell_type": "markdown",
   "metadata": {
    "slideshow": {
     "slide_type": "slide"
    }
   },
   "source": [
    "## Age and the amount of commenting"
   ]
  },
  {
   "cell_type": "markdown",
   "metadata": {
    "slideshow": {
     "slide_type": "fragment"
    }
   },
   "source": [
    "In the following subsection we will examine the data to establish whether there is a correlation between the age of users and their commenting habits:\n",
    "- how often do users within a given age group comment\n",
    "- how long is the average comment per age group"
   ]
  },
  {
   "cell_type": "code",
   "execution_count": 11,
   "metadata": {
    "collapsed": true,
    "slideshow": {
     "slide_type": "slide"
    }
   },
   "outputs": [],
   "source": [
    "sql_queryage_comments =\"\"\"\n",
    "SELECT COUNT(DISTINCT Text) AS AmountOfComments, SUM(CASE WHEN Age < 9 THEN 1 ELSE 0 END) AS 'Under 9', SUM(CASE WHEN Age Between 10 AND 19 THEN 1 ELSE 0 END) AS '10-19', SUM(CASE WHEN Age BETWEEN 20 AND 29 THEN 1 ELSE 0 END) AS '20-29', SUM(CASE WHEN Age BETWEEN 30 AND 39 THEN 1 ELSE 0 END) AS '30-39', SUM(CASE WHEN Age BETWEEN 40 AND 49 THEN 1 ELSE 0 END) AS '40-49', SUM(CASE WHEN Age BETWEEN 50 and 59 THEN 1 ELSE 0 END) AS '50-59', SUM(CASE WHEN Age BETWEEN 60 and 69 THEN 1 ELSE 0 END) AS '60-69', SUM(CASE WHEN Age BETWEEN 70 and 79 THEN 1 ELSE 0 END) AS '70-79', SUM(CASE WHEN Age BETWEEN 80 and 89 THEN 1 ELSE 0 END) AS '80-89', SUM(CASE WHEN Age BETWEEN 90 and 99 THEN 1 ELSE 0 END) AS '90-99' \n",
    "FROM users, comments \n",
    "WHERE comments.UserId = users.Id \n",
    "\"\"\""
   ]
  },
  {
   "cell_type": "code",
   "execution_count": 12,
   "metadata": {
    "collapsed": false,
    "slideshow": {
     "slide_type": "subslide"
    }
   },
   "outputs": [
    {
     "data": {
      "text/html": [
       "<div>\n",
       "<table border=\"1\" class=\"dataframe\">\n",
       "  <thead>\n",
       "    <tr style=\"text-align: right;\">\n",
       "      <th></th>\n",
       "      <th>AmountOfComments</th>\n",
       "      <th>Under 9</th>\n",
       "      <th>10-19</th>\n",
       "      <th>20-29</th>\n",
       "      <th>30-39</th>\n",
       "      <th>40-49</th>\n",
       "      <th>50-59</th>\n",
       "      <th>60-69</th>\n",
       "      <th>70-79</th>\n",
       "      <th>80-89</th>\n",
       "      <th>90-99</th>\n",
       "    </tr>\n",
       "  </thead>\n",
       "  <tbody>\n",
       "    <tr>\n",
       "      <th>0</th>\n",
       "      <td>170773</td>\n",
       "      <td>0.0</td>\n",
       "      <td>22764.0</td>\n",
       "      <td>13368.0</td>\n",
       "      <td>16410.0</td>\n",
       "      <td>7097.0</td>\n",
       "      <td>5486.0</td>\n",
       "      <td>2931.0</td>\n",
       "      <td>690.0</td>\n",
       "      <td>3.0</td>\n",
       "      <td>64.0</td>\n",
       "    </tr>\n",
       "  </tbody>\n",
       "</table>\n",
       "</div>"
      ],
      "text/plain": [
       "   AmountOfComments  Under 9    10-19    20-29    30-39   40-49   50-59  \\\n",
       "0            170773      0.0  22764.0  13368.0  16410.0  7097.0  5486.0   \n",
       "\n",
       "    60-69  70-79  80-89  90-99  \n",
       "0  2931.0  690.0    3.0   64.0  "
      ]
     },
     "execution_count": 12,
     "metadata": {},
     "output_type": "execute_result"
    }
   ],
   "source": [
    "df2 = pd.read_sql(sql_queryage_comments, conn)\n",
    "df2.head()"
   ]
  },
  {
   "cell_type": "code",
   "execution_count": 13,
   "metadata": {
    "collapsed": false,
    "slideshow": {
     "slide_type": "subslide"
    }
   },
   "outputs": [
    {
     "data": {
      "image/png": "[encoded data removed]",
      "text/plain": [
       "<IPython.core.display.Image object>"
      ]
     },
     "execution_count": 13,
     "metadata": {},
     "output_type": "execute_result"
    }
   ],
   "source": [
    "from IPython.display import Image\n",
    "Image(filename=\"comment_plot.png\") "
   ]
  },
  {
   "cell_type": "markdown",
   "metadata": {
    "slideshow": {
     "slide_type": "skip"
    }
   },
   "source": [
    "With regard to the total amount of users per age group, there seems to be a disproportionate amount of commenting from users between 10 and 19 years old. Users within age range 10 - 19 have posted a total of 22764 comments whereas user in age range 20-29 posted 13368.\n",
    "The following query takes a better look at users in age range 10-19. This query will help us determine whether the majority of users in age range 10 - 19 are simply incredibly active on the forum or whether there is something entirely else going on."
   ]
  },
  {
   "cell_type": "code",
   "execution_count": 14,
   "metadata": {
    "collapsed": true,
    "slideshow": {
     "slide_type": "slide"
    }
   },
   "outputs": [],
   "source": [
    "sql_queryage_specific = \"\"\"SELECT UserId, Displayname, COUNT(DISTINCT Text) AS AmountOfComments, Age \n",
    "FROM comments, users \n",
    "WHERE comments.UserId = users.Id AND Age BETWEEN 10 and 19\n",
    "GROUP BY Age\n",
    "ORDER BY AmountOfComments\n",
    "\"\"\""
   ]
  },
  {
   "cell_type": "code",
   "execution_count": 15,
   "metadata": {
    "collapsed": false,
    "slideshow": {
     "slide_type": "subslide"
    }
   },
   "outputs": [
    {
     "data": {
      "text/html": [
       "<div>\n",
       "<table border=\"1\" class=\"dataframe\">\n",
       "  <thead>\n",
       "    <tr style=\"text-align: right;\">\n",
       "      <th></th>\n",
       "      <th>0</th>\n",
       "      <th>1</th>\n",
       "      <th>2</th>\n",
       "      <th>3</th>\n",
       "      <th>4</th>\n",
       "      <th>5</th>\n",
       "      <th>6</th>\n",
       "    </tr>\n",
       "  </thead>\n",
       "  <tbody>\n",
       "    <tr>\n",
       "      <th>UserId</th>\n",
       "      <td>44114</td>\n",
       "      <td>25363</td>\n",
       "      <td>14062</td>\n",
       "      <td>297</td>\n",
       "      <td>7828</td>\n",
       "      <td>805</td>\n",
       "      <td>919</td>\n",
       "    </tr>\n",
       "    <tr>\n",
       "      <th>Displayname</th>\n",
       "      <td>Anubian Noob</td>\n",
       "      <td>Emrakul</td>\n",
       "      <td>Claudio Albertin</td>\n",
       "      <td>Maxim Zaslavsky</td>\n",
       "      <td>Anony-Mousse</td>\n",
       "      <td>Glen_b</td>\n",
       "      <td>whuber</td>\n",
       "    </tr>\n",
       "    <tr>\n",
       "      <th>AmountOfComments</th>\n",
       "      <td>1</td>\n",
       "      <td>30</td>\n",
       "      <td>32</td>\n",
       "      <td>46</td>\n",
       "      <td>591</td>\n",
       "      <td>8786</td>\n",
       "      <td>13237</td>\n",
       "    </tr>\n",
       "    <tr>\n",
       "      <th>Age</th>\n",
       "      <td>15</td>\n",
       "      <td>18</td>\n",
       "      <td>19</td>\n",
       "      <td>17</td>\n",
       "      <td>16</td>\n",
       "      <td>13</td>\n",
       "      <td>14</td>\n",
       "    </tr>\n",
       "  </tbody>\n",
       "</table>\n",
       "</div>"
      ],
      "text/plain": [
       "                             0        1                 2                3  \\\n",
       "UserId                   44114    25363             14062              297   \n",
       "Displayname       Anubian Noob  Emrakul  Claudio Albertin  Maxim Zaslavsky   \n",
       "AmountOfComments             1       30                32               46   \n",
       "Age                         15       18                19               17   \n",
       "\n",
       "                             4       5       6  \n",
       "UserId                    7828     805     919  \n",
       "Displayname       Anony-Mousse  Glen_b  whuber  \n",
       "AmountOfComments           591    8786   13237  \n",
       "Age                         16      13      14  "
      ]
     },
     "execution_count": 15,
     "metadata": {},
     "output_type": "execute_result"
    }
   ],
   "source": [
    "df90 = pd.read_sql(sql_queryage_specific, conn)\n",
    "df90=df90.T\n",
    "df90.head()"
   ]
  },
  {
   "cell_type": "markdown",
   "metadata": {
    "slideshow": {
     "slide_type": "skip"
    }
   },
   "source": [
    "It appears that the remarkable high amount of comments by users in the age category 10-19 is a result of two specific users: Glen_b and Whuber. Both commenters portray an unusual high commenting activity with whuber even being the overall top commenter on the forum. After examining the comments from both users, we established that these users are indeed posting legitimate comments on posts and that they are not spam bots. However, this poses a new question. Given the fact that both users provide an enormous amount of helpful, legitimate comments, are Glen_b and whuber indeed respectively 13 and 14 years old? In order to establish the veracity of their age, we examined these two accounts more closely. Whuber provides a link to his personal website in his introduction text. A quick glance at his website confirms our suspicion that whuber is not a 14 year old but instead he is a middle-aged statistics consultant."
   ]
  },
  {
   "cell_type": "markdown",
   "metadata": {
    "slideshow": {
     "slide_type": "slide"
    }
   },
   "source": [
    "A next part will investigate this phenomenon where a small group of users posts an incredible amount of comments. With a scatterplot we will try to combine the amount of comments with the amount of commenters per age."
   ]
  },
  {
   "cell_type": "code",
   "execution_count": 16,
   "metadata": {
    "collapsed": true,
    "slideshow": {
     "slide_type": "skip"
    }
   },
   "outputs": [],
   "source": [
    "sql_for_commenters =\"\"\"\n",
    "SELECT COUNT(DISTINCT Text) AS AmountOfComments, Age, COUNT(DISTINCT users.Id) AS AmountOfUsers\n",
    "FROM users, comments \n",
    "WHERE comments.UserId = users.Id\n",
    "GROUP BY Age\n",
    "\"\"\""
   ]
  },
  {
   "cell_type": "code",
   "execution_count": 17,
   "metadata": {
    "collapsed": false,
    "slideshow": {
     "slide_type": "skip"
    }
   },
   "outputs": [
    {
     "data": {
      "text/html": [
       "<div>\n",
       "<table border=\"1\" class=\"dataframe\">\n",
       "  <thead>\n",
       "    <tr style=\"text-align: right;\">\n",
       "      <th></th>\n",
       "      <th>AmountOfComments</th>\n",
       "      <th>Age</th>\n",
       "      <th>AmountOfUsers</th>\n",
       "    </tr>\n",
       "  </thead>\n",
       "  <tbody>\n",
       "    <tr>\n",
       "      <th>0</th>\n",
       "      <td>102292</td>\n",
       "      <td>NaN</td>\n",
       "      <td>11236</td>\n",
       "    </tr>\n",
       "    <tr>\n",
       "      <th>1</th>\n",
       "      <td>8786</td>\n",
       "      <td>13.0</td>\n",
       "      <td>1</td>\n",
       "    </tr>\n",
       "    <tr>\n",
       "      <th>2</th>\n",
       "      <td>13237</td>\n",
       "      <td>14.0</td>\n",
       "      <td>2</td>\n",
       "    </tr>\n",
       "    <tr>\n",
       "      <th>3</th>\n",
       "      <td>1</td>\n",
       "      <td>15.0</td>\n",
       "      <td>1</td>\n",
       "    </tr>\n",
       "    <tr>\n",
       "      <th>4</th>\n",
       "      <td>591</td>\n",
       "      <td>16.0</td>\n",
       "      <td>5</td>\n",
       "    </tr>\n",
       "  </tbody>\n",
       "</table>\n",
       "</div>"
      ],
      "text/plain": [
       "   AmountOfComments   Age  AmountOfUsers\n",
       "0            102292   NaN          11236\n",
       "1              8786  13.0              1\n",
       "2             13237  14.0              2\n",
       "3                 1  15.0              1\n",
       "4               591  16.0              5"
      ]
     },
     "execution_count": 17,
     "metadata": {},
     "output_type": "execute_result"
    }
   ],
   "source": [
    "df50 = pd.read_sql(sql_for_commenters, conn)\n",
    "df50.head()"
   ]
  },
  {
   "cell_type": "code",
   "execution_count": 18,
   "metadata": {
    "collapsed": false,
    "slideshow": {
     "slide_type": "slide"
    }
   },
   "outputs": [
    {
     "data": {
      "image/png": "[encoded data removed]",
      "text/plain": [
       "<matplotlib.figure.Figure at 0xa6ed860>"
      ]
     },
     "metadata": {},
     "output_type": "display_data"
    }
   ],
   "source": [
    "df50.plot.scatter(x='AmountOfComments', y='Age', s=df50['AmountOfUsers'] * 10, figsize=(15,10), title='Age vs. amount of commenting users per age')\n",
    "plt.show()"
   ]
  },
  {
   "cell_type": "markdown",
   "metadata": {
    "slideshow": {
     "slide_type": "skip"
    }
   },
   "source": [
    "The scatterplot gives a clear image of how people below the age of 40 tend to be more active in commenting. A reasonable explanation is that the majority of active users on the forum fall within the age range of 10 and 40.\n",
    "Ignoring the outliers for a moment, the most amount of comments seem are provided by user around the age of 30. \n",
    "\n",
    "Interestingly, the high amount of comments is mostly a group effort. This is especially true for the users between the age of 20 and 40 which is not that surprising since it is the dominant age group on the forum. For most age groups, the amount of commenting is done by a large group of users rather than a few.\n",
    "\n",
    "However, there are some exceptions to this observation: some individual users seem to comment above average rate of comments. For example, the aformentioned users, Glen_B and whuber. They are situated to the utmost right of the scatterplot, meaning they posted an incredible amount of comments. There are a few other user that also comment more than the average user, yet their commenting behaviour is not that remarkable compared to whuber and Glen_b, who can be considered exceptions. "
   ]
  },
  {
   "cell_type": "markdown",
   "metadata": {
    "slideshow": {
     "slide_type": "slide"
    }
   },
   "source": [
    "It would be unwise to assume that all these comments would have the same length. Perhaps top commenters only post short comments and are therefore able to post the amount of comments they submit. Another scatterplot will look at the average length of these comments per age group."
   ]
  },
  {
   "cell_type": "code",
   "execution_count": 19,
   "metadata": {
    "collapsed": true,
    "slideshow": {
     "slide_type": "skip"
    }
   },
   "outputs": [],
   "source": [
    "sql_for_length =\"\"\"\n",
    "SELECT COUNT(DISTINCT Text) AS AmountOfComments, Age, AVG(LENGTH(Text)) AS Length\n",
    "FROM users, comments \n",
    "WHERE comments.UserId = users.Id\n",
    "GROUP BY Age\n",
    "\"\"\""
   ]
  },
  {
   "cell_type": "code",
   "execution_count": 20,
   "metadata": {
    "collapsed": false,
    "slideshow": {
     "slide_type": "skip"
    }
   },
   "outputs": [
    {
     "data": {
      "text/html": [
       "<div>\n",
       "<table border=\"1\" class=\"dataframe\">\n",
       "  <thead>\n",
       "    <tr style=\"text-align: right;\">\n",
       "      <th></th>\n",
       "      <th>AmountOfComments</th>\n",
       "      <th>Age</th>\n",
       "      <th>Length</th>\n",
       "    </tr>\n",
       "  </thead>\n",
       "  <tbody>\n",
       "    <tr>\n",
       "      <th>0</th>\n",
       "      <td>102292</td>\n",
       "      <td>NaN</td>\n",
       "      <td>227.2587</td>\n",
       "    </tr>\n",
       "    <tr>\n",
       "      <th>1</th>\n",
       "      <td>8786</td>\n",
       "      <td>13.0</td>\n",
       "      <td>239.0041</td>\n",
       "    </tr>\n",
       "    <tr>\n",
       "      <th>2</th>\n",
       "      <td>13237</td>\n",
       "      <td>14.0</td>\n",
       "      <td>305.7374</td>\n",
       "    </tr>\n",
       "    <tr>\n",
       "      <th>3</th>\n",
       "      <td>1</td>\n",
       "      <td>15.0</td>\n",
       "      <td>39.0000</td>\n",
       "    </tr>\n",
       "    <tr>\n",
       "      <th>4</th>\n",
       "      <td>591</td>\n",
       "      <td>16.0</td>\n",
       "      <td>230.9848</td>\n",
       "    </tr>\n",
       "  </tbody>\n",
       "</table>\n",
       "</div>"
      ],
      "text/plain": [
       "   AmountOfComments   Age    Length\n",
       "0            102292   NaN  227.2587\n",
       "1              8786  13.0  239.0041\n",
       "2             13237  14.0  305.7374\n",
       "3                 1  15.0   39.0000\n",
       "4               591  16.0  230.9848"
      ]
     },
     "execution_count": 20,
     "metadata": {},
     "output_type": "execute_result"
    }
   ],
   "source": [
    "df55 = pd.read_sql(sql_for_length, conn)\n",
    "df55.head()"
   ]
  },
  {
   "cell_type": "code",
   "execution_count": 21,
   "metadata": {
    "collapsed": false,
    "slideshow": {
     "slide_type": "subslide"
    }
   },
   "outputs": [
    {
     "data": {
      "image/png": "[encoded data removed]",
      "text/plain": [
       "<matplotlib.figure.Figure at 0xa701c88>"
      ]
     },
     "metadata": {},
     "output_type": "display_data"
    }
   ],
   "source": [
    "df55.plot.scatter(x='Length', y='Age', s=df55['AmountOfComments'] * 1.5, figsize=(15,10), title='Age vs. Average length of comments')\n",
    "plt.show()"
   ]
  },
  {
   "cell_type": "markdown",
   "metadata": {
    "slideshow": {
     "slide_type": "skip"
    }
   },
   "source": [
    "Based on the information we retrieved, the average comment length situates itself between 150 and 300 words per post. This size is somewhat consistent across the age ranges, meaning that there are not specific age groups that post shorter or longer comments.\n",
    "This data contradicts our earlier hypothesis that both top commentors, Glen_B and whuber, only post very short comments in order to boost their number of comments."
   ]
  },
  {
   "cell_type": "markdown",
   "metadata": {
    "slideshow": {
     "slide_type": "slide"
    }
   },
   "source": [
    "## Age and amount of posts"
   ]
  },
  {
   "cell_type": "markdown",
   "metadata": {
    "slideshow": {
     "slide_type": "fragment"
    }
   },
   "source": [
    "In the following subsection we will examine the data to establish whether there is a correlation between the age of users and their posting habits:\n",
    "- how often do users within a given age group submit posts"
   ]
  },
  {
   "cell_type": "code",
   "execution_count": 22,
   "metadata": {
    "collapsed": true,
    "slideshow": {
     "slide_type": "slide"
    }
   },
   "outputs": [],
   "source": [
    "sql_query_post =\"\"\"SELECT COUNT(DISTINCT Body) AS AmountOfPosts, SUM(CASE WHEN Age < 9 THEN 1 ELSE 0 END) AS 'Under 9', SUM(CASE WHEN Age Between 10 AND 19 THEN 1 ELSE 0 END) AS '10-19', SUM(CASE WHEN Age BETWEEN 20 AND 29 THEN 1 ELSE 0 END) AS '20-29', SUM(CASE WHEN Age BETWEEN 30 AND 39 THEN 1 ELSE 0 END) AS '30-39', SUM(CASE WHEN Age BETWEEN 40 AND 49 THEN 1 ELSE 0 END) AS '40-49', SUM(CASE WHEN Age BETWEEN 50 and 59 THEN 1 ELSE 0 END) AS '50-59', SUM(CASE WHEN Age BETWEEN 60 and 69 THEN 1 ELSE 0 END) AS '60-69', SUM(CASE WHEN Age BETWEEN 70 and 79 THEN 1 ELSE 0 END) AS '70-79', SUM(CASE WHEN Age BETWEEN 80 and 89 THEN 1 ELSE 0 END) AS '80-89', SUM(CASE WHEN Age BETWEEN 90 and 99 THEN 1 ELSE 0 END) AS '90-99' \n",
    "FROM users, posts \n",
    "WHERE posts.OwnerUserId = users.Id\"\"\""
   ]
  },
  {
   "cell_type": "code",
   "execution_count": 23,
   "metadata": {
    "collapsed": false,
    "slideshow": {
     "slide_type": "subslide"
    }
   },
   "outputs": [
    {
     "data": {
      "text/html": [
       "<div>\n",
       "<table border=\"1\" class=\"dataframe\">\n",
       "  <thead>\n",
       "    <tr style=\"text-align: right;\">\n",
       "      <th></th>\n",
       "      <th>AmountOfPosts</th>\n",
       "      <th>Under 9</th>\n",
       "      <th>10-19</th>\n",
       "      <th>20-29</th>\n",
       "      <th>30-39</th>\n",
       "      <th>40-49</th>\n",
       "      <th>50-59</th>\n",
       "      <th>60-69</th>\n",
       "      <th>70-79</th>\n",
       "      <th>80-89</th>\n",
       "      <th>90-99</th>\n",
       "    </tr>\n",
       "  </thead>\n",
       "  <tbody>\n",
       "    <tr>\n",
       "      <th>0</th>\n",
       "      <td>90350</td>\n",
       "      <td>0.0</td>\n",
       "      <td>3402.0</td>\n",
       "      <td>6901.0</td>\n",
       "      <td>8825.0</td>\n",
       "      <td>3717.0</td>\n",
       "      <td>2637.0</td>\n",
       "      <td>826.0</td>\n",
       "      <td>456.0</td>\n",
       "      <td>0.0</td>\n",
       "      <td>40.0</td>\n",
       "    </tr>\n",
       "  </tbody>\n",
       "</table>\n",
       "</div>"
      ],
      "text/plain": [
       "   AmountOfPosts  Under 9   10-19   20-29   30-39   40-49   50-59  60-69  \\\n",
       "0          90350      0.0  3402.0  6901.0  8825.0  3717.0  2637.0  826.0   \n",
       "\n",
       "   70-79  80-89  90-99  \n",
       "0  456.0    0.0   40.0  "
      ]
     },
     "execution_count": 23,
     "metadata": {},
     "output_type": "execute_result"
    }
   ],
   "source": [
    "df3 = pd.read_sql(sql_query_post, conn)\n",
    "df3.head()"
   ]
  },
  {
   "cell_type": "code",
   "execution_count": 24,
   "metadata": {
    "collapsed": false,
    "slideshow": {
     "slide_type": "subslide"
    }
   },
   "outputs": [
    {
     "data": {
      "image/png": "[encoded data removed]",
      "text/plain": [
       "<IPython.core.display.Image object>"
      ]
     },
     "execution_count": 24,
     "metadata": {},
     "output_type": "execute_result"
    }
   ],
   "source": [
    "from IPython.display import Image\n",
    "Image(filename=\"post_plot.png\")"
   ]
  },
  {
   "cell_type": "markdown",
   "metadata": {
    "slideshow": {
     "slide_type": "skip"
    }
   },
   "source": [
    "As the plot shows, users within the age range of 30-39 provide the most posts, followed by users in age range 20-29. A possible explanation here is that these are users who are often confronted with statistical challenges in their daily life and want some feedback or insights from others in order to solve their problems."
   ]
  },
  {
   "cell_type": "markdown",
   "metadata": {
    "slideshow": {
     "slide_type": "slide"
    }
   },
   "source": [
    "## Users and their geographical location"
   ]
  },
  {
   "cell_type": "markdown",
   "metadata": {
    "slideshow": {
     "slide_type": "fragment"
    }
   },
   "source": [
    "In the following subsection we will examine the geographical distribution of the users on the forum."
   ]
  },
  {
   "cell_type": "markdown",
   "metadata": {
    "slideshow": {
     "slide_type": "skip"
    }
   },
   "source": [
    "The first query  concerning location is an explorative one: how many different locations are we dealing with and how many locations have a NULL value?"
   ]
  },
  {
   "cell_type": "code",
   "execution_count": 25,
   "metadata": {
    "collapsed": true,
    "slideshow": {
     "slide_type": "skip"
    }
   },
   "outputs": [],
   "source": [
    "sql_query3 =\"\"\"\n",
    "SELECT count(*), Location FROM users GROUP BY Location\n",
    "\"\"\""
   ]
  },
  {
   "cell_type": "code",
   "execution_count": 26,
   "metadata": {
    "collapsed": false,
    "slideshow": {
     "slide_type": "skip"
    }
   },
   "outputs": [],
   "source": [
    "df4 = pd.read_sql(sql_query3, conn)"
   ]
  },
  {
   "cell_type": "markdown",
   "metadata": {
    "slideshow": {
     "slide_type": "skip"
    }
   },
   "source": [
    "We counted all the different locations and their occurence in our database from the table 'users'.\n",
    "There are in total 2402 rows (insert total amount of users to compare how many users have filled in their location). 2402 rows translates to 2401 unique location entries. \n",
    "28634 users have a NULL value for their location. \n",
    "As mentioned previously, we will not include the users with NULL values in our study.\n",
    "Interestingly, the location entry does allow for 'invalid' locations to be submitted. For example, several users have ' ' '!', ' ;) ' or '-' as location. Others use co-ordinates for their location, making it difficult to group these users. One solution would be to include these users in a new group 'Nonsensical Locations' as to mark the fact that they do have a location, but not a real one. However, as to not make this research question too intricate and perhaps convoluted, we decided to only utilise the location entries of users which contain a valid location.\n"
   ]
  },
  {
   "cell_type": "markdown",
   "metadata": {
    "slideshow": {
     "slide_type": "slide"
    }
   },
   "source": [
    "The second query filters out all the location entries with a NULL value."
   ]
  },
  {
   "cell_type": "code",
   "execution_count": 27,
   "metadata": {
    "collapsed": true,
    "slideshow": {
     "slide_type": "fragment"
    }
   },
   "outputs": [],
   "source": [
    "sql_query4 =\"\"\"\n",
    "SELECT count(*), Location FROM users WHERE Location is NOT NULL GROUP BY Location ORDER BY count(*) DESC \n",
    "\"\"\""
   ]
  },
  {
   "cell_type": "code",
   "execution_count": 28,
   "metadata": {
    "collapsed": false,
    "slideshow": {
     "slide_type": "subslide"
    }
   },
   "outputs": [
    {
     "data": {
      "text/html": [
       "<div>\n",
       "<table border=\"1\" class=\"dataframe\">\n",
       "  <thead>\n",
       "    <tr style=\"text-align: right;\">\n",
       "      <th></th>\n",
       "      <th>count(*)</th>\n",
       "      <th>Location</th>\n",
       "    </tr>\n",
       "  </thead>\n",
       "  <tbody>\n",
       "    <tr>\n",
       "      <th>0</th>\n",
       "      <td>352</td>\n",
       "      <td>United States</td>\n",
       "    </tr>\n",
       "    <tr>\n",
       "      <th>1</th>\n",
       "      <td>281</td>\n",
       "      <td>London, United Kingdom</td>\n",
       "    </tr>\n",
       "    <tr>\n",
       "      <th>2</th>\n",
       "      <td>222</td>\n",
       "      <td>Germany</td>\n",
       "    </tr>\n",
       "    <tr>\n",
       "      <th>3</th>\n",
       "      <td>209</td>\n",
       "      <td>India</td>\n",
       "    </tr>\n",
       "    <tr>\n",
       "      <th>4</th>\n",
       "      <td>209</td>\n",
       "      <td>United Kingdom</td>\n",
       "    </tr>\n",
       "  </tbody>\n",
       "</table>\n",
       "</div>"
      ],
      "text/plain": [
       "   count(*)                Location\n",
       "0       352           United States\n",
       "1       281  London, United Kingdom\n",
       "2       222                 Germany\n",
       "3       209                   India\n",
       "4       209          United Kingdom"
      ]
     },
     "execution_count": 28,
     "metadata": {},
     "output_type": "execute_result"
    }
   ],
   "source": [
    "df5 = pd.read_sql(sql_query4, conn)\n",
    "df5.head()"
   ]
  },
  {
   "cell_type": "markdown",
   "metadata": {
    "slideshow": {
     "slide_type": "skip"
    }
   },
   "source": [
    "We also included an extra statement that orders the 'count()' table in descending order to get a sense of where most users live. This also helps avoid encountering a lot of nonsensical locations such as ' ;) ' as only a minority of users use nonsensical locations.\n",
    "\n",
    "Here, we encounter a new challenge. According to the query we have 352 users living in the United States of America. However, we also have 154 users living in San Franciso, CA, which is also in the United States. This example demonstrates that we are working with data that is not perfect as we will have to manipulate the data to make it more 'readable'.\n",
    "\n",
    "To solve this issue, we need to make a query where all users that have a location that is equal to \"United States\" AND the string includes a two-letter combination (state initials). Unfortunately that won't make our query perfect, as some users only inserted their hometown or state without initials.\n",
    "\n",
    "It would be faster and more efficient to explore all rows individually, note all US locations down and then add up all numbers than make a query which includes all possible American states (full form and initials) if you do not know all American cities, states and initials by heart. Another problem with the geographical information is the use of different names for the same place. People that live in England can use 'England' to indicate their location, or 'United Kingdom' or even 'Great Britain'. Next to that, some users also tend to only mention their hometown as the location without including of the country."
   ]
  },
  {
   "cell_type": "markdown",
   "metadata": {
    "slideshow": {
     "slide_type": "skip"
    }
   },
   "source": [
    "It could then be more interesting to do a query to find out more about a specific part of our user database. For example, how many users hail from Belgium, and where are they from, specifically?"
   ]
  },
  {
   "cell_type": "code",
   "execution_count": 29,
   "metadata": {
    "collapsed": true,
    "slideshow": {
     "slide_type": "slide"
    }
   },
   "outputs": [],
   "source": [
    "sql_query5 =\"\"\"\n",
    "SELECT COUNT(*), Location FROM `users` WHERE Location LIKE \"%Belgium%\" GROUP BY Location\n",
    "\"\"\""
   ]
  },
  {
   "cell_type": "code",
   "execution_count": 30,
   "metadata": {
    "collapsed": false,
    "slideshow": {
     "slide_type": "subslide"
    }
   },
   "outputs": [
    {
     "data": {
      "text/html": [
       "<div>\n",
       "<table border=\"1\" class=\"dataframe\">\n",
       "  <thead>\n",
       "    <tr style=\"text-align: right;\">\n",
       "      <th></th>\n",
       "      <th>COUNT(*)</th>\n",
       "      <th>Location</th>\n",
       "    </tr>\n",
       "  </thead>\n",
       "  <tbody>\n",
       "    <tr>\n",
       "      <th>0</th>\n",
       "      <td>8</td>\n",
       "      <td>Antwerp, Belgium</td>\n",
       "    </tr>\n",
       "    <tr>\n",
       "      <th>1</th>\n",
       "      <td>1</td>\n",
       "      <td>Antwerp/Leuven, Belgium</td>\n",
       "    </tr>\n",
       "    <tr>\n",
       "      <th>2</th>\n",
       "      <td>71</td>\n",
       "      <td>Belgium</td>\n",
       "    </tr>\n",
       "    <tr>\n",
       "      <th>3</th>\n",
       "      <td>2</td>\n",
       "      <td>Bruges, Belgium</td>\n",
       "    </tr>\n",
       "    <tr>\n",
       "      <th>4</th>\n",
       "      <td>13</td>\n",
       "      <td>Brussels, Belgium</td>\n",
       "    </tr>\n",
       "  </tbody>\n",
       "</table>\n",
       "</div>"
      ],
      "text/plain": [
       "   COUNT(*)                 Location\n",
       "0         8         Antwerp, Belgium\n",
       "1         1  Antwerp/Leuven, Belgium\n",
       "2        71                  Belgium\n",
       "3         2          Bruges, Belgium\n",
       "4        13        Brussels, Belgium"
      ]
     },
     "execution_count": 30,
     "metadata": {},
     "output_type": "execute_result"
    }
   ],
   "source": [
    "df_belgium = pd.read_sql(sql_query5, conn)\n",
    "df_belgium.head()"
   ]
  },
  {
   "cell_type": "markdown",
   "metadata": {
    "slideshow": {
     "slide_type": "fragment"
    }
   },
   "source": [
    "As this query shows we get a number of users who live in Belgium. However, users that live in a Belgian city, like Antwerp / Antwerpen, or Brussel / Brussels / Bruxelles are not included."
   ]
  },
  {
   "cell_type": "markdown",
   "metadata": {
    "slideshow": {
     "slide_type": "slide"
    }
   },
   "source": [
    "### Export of geographical location and textmining\n"
   ]
  },
  {
   "cell_type": "markdown",
   "metadata": {
    "slideshow": {
     "slide_type": "fragment"
    }
   },
   "source": [
    "Because of the aforementioned problems with the data for the locations, we decided to use methods other than SQL for retrieving relevant information from our database. Since the location fields without NULL values consist of strings as a data type, the most obvious technique is text mining. In order to do this, the relevant data needs to be exported first."
   ]
  },
  {
   "cell_type": "code",
   "execution_count": 31,
   "metadata": {
    "collapsed": true,
    "slideshow": {
     "slide_type": "slide"
    }
   },
   "outputs": [],
   "source": [
    "sql_query6 =\"\"\"\n",
    "SELECT Location FROM users\n",
    "WHERE Location IS NOT NULL\n",
    "INTO OUTFILE 'C:\\location.csv'\"\"\""
   ]
  },
  {
   "cell_type": "markdown",
   "metadata": {
    "slideshow": {
     "slide_type": "skip"
    }
   },
   "source": [
    "The resulting csv-file was put into a text analysis tool, Voyant. Voyant can visualise the frequency of significant words. The word *United* is the word that occurs most in our location database since it can belong both to *Kingdom* and *States*. Therefore, we excluded it from the frequency list."
   ]
  },
  {
   "cell_type": "code",
   "execution_count": 32,
   "metadata": {
    "collapsed": false,
    "slideshow": {
     "slide_type": "subslide"
    }
   },
   "outputs": [
    {
     "data": {
      "image/png": "[encoded data removed]",
      "text/plain": [
       "<IPython.core.display.Image object>"
      ]
     },
     "execution_count": 32,
     "metadata": {},
     "output_type": "execute_result"
    }
   ],
   "source": [
    "from IPython.display import Image\n",
    "Image(filename=\"frequent_locations.png\")"
   ]
  },
  {
   "cell_type": "markdown",
   "metadata": {
    "slideshow": {
     "slide_type": "skip"
    }
   },
   "source": [
    "The word cloud already tells a little bit more about the geographic location of the users. For example, most users have submitted as their location the word *kingdom*. However, *Germany*, *(United) States*, *Canada*, and *India* have also frequently used as location input.\n",
    "\n",
    "Our word cloud excludes fields nonsensical locations, such as interpunction, smileys and coordinates. Unfortunately, it also filters out misspelled locations, therefore the word cloud can only give us a rough estimate where most of our user reside. In other words, the word cloud cannot provide us with a concise and precise overview of the geographical distribution of the users. \n",
    "For example, *ca* stands for California and is the third most frequent location in our dataset. It has a higher frequency than *states* while California actually is a state within the United States. \n",
    "Other keywords like *University* do not really give information that is related to a country, yet it is still meaningful since it might mean that users like to emphasize their authority by claiming to be related to an academic institution.\n",
    "\n",
    "Furthermore, this word cloud shows a high frequency of Western countries. However, India also has a high frequency. This might suggest that there is an important language component involved concerning our users and their involvement on the forum. Since most text on the forum is in English, it can be no surprise that the most common locations are those where English is an official language and/or where a significant amount of the population has some proficiency in English.\n",
    "\n",
    "In order to gain more insight into the geographical distribution of the forum's user, we combined the text mining methods with the data retrieved from our age queries.\n",
    "\n",
    "As you can see below, the images illustrate the geographical distribution of users per age group.When different word clouds are juxtaposed,they highlight the high rate of representation of Western countries.\n",
    "Interestingly, most users seem to provide their country when asked for their location instead of their hometown or province for example. This appears to be true for nearly all countries except for the United States of America where input like *ca* (California) or *ny* (New York) is sometimes more frequently used than (United) *States*.\n",
    "\n",
    "Note: because many users above the age of 69 often fail to include information about their location, we chose to exclude these age ranges in the comparisons.\n",
    "\n"
   ]
  },
  {
   "cell_type": "code",
   "execution_count": 1,
   "metadata": {
    "collapsed": false,
    "scrolled": true,
    "slideshow": {
     "slide_type": "subslide"
    }
   },
   "outputs": [
    {
     "data": {
      "text/html": [
       "<table><tr><td><p><b>10-19</p><img src='10-19.png'></td><td><p><b>20-29</p><img src='20-29.png'></td><td><p><b>30-39</p><img src='30-39.png'></td></tr></table>"
      ],
      "text/plain": [
       "<IPython.core.display.HTML object>"
      ]
     },
     "metadata": {},
     "output_type": "display_data"
    },
    {
     "data": {
      "text/html": [
       "<table><tr><td><p><b>40-49</p><img src='40-49.png'></td><td><p><b>50-59</p><img src='50-59.png'></td><td><p><b>60-69</p><img src='60-69.png'></td></tr></table>"
      ],
      "text/plain": [
       "<IPython.core.display.HTML object>"
      ]
     },
     "metadata": {},
     "output_type": "display_data"
    }
   ],
   "source": [
    "from IPython.display import HTML, display\n",
    "display(HTML(\"<table><tr><td><p><b>10-19</p><img src='10-19.png'></td><td><p><b>20-29</p><img src='20-29.png'></td><td><p><b>30-39</p><img src='30-39.png'></td></tr></table>\"))\n",
    "display(HTML(\"<table><tr><td><p><b>40-49</p><img src='40-49.png'></td><td><p><b>50-59</p><img src='50-59.png'></td><td><p><b>60-69</p><img src='60-69.png'></td></tr></table>\"))"
   ]
  },
  {
   "cell_type": "markdown",
   "metadata": {
    "slideshow": {
     "slide_type": "skip"
    }
   },
   "source": [
    "Another way of comparing the location input by users of different age groups is to visualize this data in a graph. The process below gives an example of how this is possible. Since most countries are located in the West, we will take the most-represented country of the East: India. \n",
    "Curiously, for Indian **user**, there is an large quantitative difference in the amount of users per age group. A large amount of Indian users situate themselves in lower age ranges (10-29).\n",
    "Therefore, we wanted to calculate the relative percentage of Indian users on our forum.\n",
    "\n",
    "The first query below gives an idea of the discrepancy in the amount of user between all age groups. "
   ]
  },
  {
   "cell_type": "markdown",
   "metadata": {
    "slideshow": {
     "slide_type": "slide"
    }
   },
   "source": [
    "### Relative importance of users from India"
   ]
  },
  {
   "cell_type": "code",
   "execution_count": 7,
   "metadata": {
    "collapsed": false,
    "slideshow": {
     "slide_type": "subslide"
    }
   },
   "outputs": [],
   "source": [
    "sql_query7 = \"\"\"SELECT Location, SUM(CASE WHEN Age < 9 THEN 1 ELSE 0 END) AS 'Under 9',\n",
    "        SUM(CASE WHEN Age Between 10 AND 19 THEN 1 ELSE 0 END) AS '10-19',\n",
    "        SUM(CASE WHEN Age BETWEEN 20 AND 29 THEN 1 ELSE 0 END) AS '20-29',\n",
    "        SUM(CASE WHEN Age BETWEEN 30 AND 39 THEN 1 ELSE 0 END) AS '30-39',\n",
    "        SUM(CASE WHEN Age BETWEEN 40 AND 49 THEN 1 ELSE 0 END) AS '40-49',\n",
    "        SUM(CASE WHEN Age BETWEEN 50 and 59 THEN 1 ELSE 0 END) AS '50-59',\n",
    "        SUM(CASE WHEN Age BETWEEN 60 and 69 THEN 1 ELSE 0 END) AS '60-69',\n",
    "        SUM(CASE WHEN Age BETWEEN 70 and 79 THEN 1 ELSE 0 END) AS '70-79',\n",
    "        SUM(CASE WHEN Age BETWEEN 80 and 89 THEN 1 ELSE 0 END) AS '80-89',\n",
    "        SUM(CASE WHEN Age BETWEEN 90 and 99 THEN 1 ELSE 0 END) AS '90-99'\n",
    "FROM `users`\n",
    "WHERE Location is not NULL\n",
    "\"\"\""
   ]
  },
  {
   "cell_type": "code",
   "execution_count": 8,
   "metadata": {
    "collapsed": false,
    "slideshow": {
     "slide_type": "fragment"
    }
   },
   "outputs": [
    {
     "data": {
      "text/html": [
       "<div>\n",
       "<table border=\"1\" class=\"dataframe\">\n",
       "  <thead>\n",
       "    <tr style=\"text-align: right;\">\n",
       "      <th></th>\n",
       "      <th>Location</th>\n",
       "      <th>Under 9</th>\n",
       "      <th>10-19</th>\n",
       "      <th>20-29</th>\n",
       "      <th>30-39</th>\n",
       "      <th>40-49</th>\n",
       "      <th>50-59</th>\n",
       "      <th>60-69</th>\n",
       "      <th>70-79</th>\n",
       "      <th>80-89</th>\n",
       "      <th>90-99</th>\n",
       "    </tr>\n",
       "  </thead>\n",
       "  <tbody>\n",
       "    <tr>\n",
       "      <th>0</th>\n",
       "      <td>on the server farm</td>\n",
       "      <td>0.0</td>\n",
       "      <td>90.0</td>\n",
       "      <td>3369.0</td>\n",
       "      <td>2858.0</td>\n",
       "      <td>715.0</td>\n",
       "      <td>172.0</td>\n",
       "      <td>49.0</td>\n",
       "      <td>14.0</td>\n",
       "      <td>1.0</td>\n",
       "      <td>54.0</td>\n",
       "    </tr>\n",
       "  </tbody>\n",
       "</table>\n",
       "</div>"
      ],
      "text/plain": [
       "             Location  Under 9  10-19   20-29   30-39  40-49  50-59  60-69  \\\n",
       "0  on the server farm      0.0   90.0  3369.0  2858.0  715.0  172.0   49.0   \n",
       "\n",
       "   70-79  80-89  90-99  \n",
       "0   14.0    1.0   54.0  "
      ]
     },
     "execution_count": 8,
     "metadata": {},
     "output_type": "execute_result"
    }
   ],
   "source": [
    "df55 = pd.read_sql(sql_query7, conn)\n",
    "df55.head()"
   ]
  },
  {
   "cell_type": "markdown",
   "metadata": {
    "slideshow": {
     "slide_type": "notes"
    }
   },
   "source": [
    "Different from the results of the Notebook we submitted because the 'Location is not NULL'-part got lost in that version."
   ]
  },
  {
   "cell_type": "markdown",
   "metadata": {
    "slideshow": {
     "slide_type": "skip"
    }
   },
   "source": [
    "We then use these numbers to define the absolute percentage of users per age group that defined India as their location.\n",
    "\n",
    "The following query calculates the absolute importance of India within 'location'."
   ]
  },
  {
   "cell_type": "code",
   "execution_count": 20,
   "metadata": {
    "collapsed": false,
    "slideshow": {
     "slide_type": "subslide"
    }
   },
   "outputs": [],
   "source": [
    "sql_query8 = \"\"\"SELECT \n",
    "        SUM(CASE WHEN Age < 9 THEN 1 ELSE 0 END) AS 'Under 9',\n",
    "        (SUM(CASE WHEN Age Between 10 AND 19 THEN 1 ELSE 0 END) / 90.0 * 100) AS '10-19',\n",
    "        (SUM(CASE WHEN Age BETWEEN 20 AND 29 THEN 1 ELSE 0 END) / 3369.0 * 100) AS '20-29',\n",
    "        (SUM(CASE WHEN Age BETWEEN 30 AND 39 THEN 1 ELSE 0 END) / 2858.0 * 100) AS '30-39',\n",
    "        (SUM(CASE WHEN Age BETWEEN 40 AND 49 THEN 1 ELSE 0 END) / 715.0 * 100) AS '40-49',\n",
    "        (SUM(CASE WHEN Age BETWEEN 50 and 59 THEN 1 ELSE 0 END) / 172.0 * 100) AS '50-59',\n",
    "        (SUM(CASE WHEN Age BETWEEN 60 and 69 THEN 1 ELSE 0 END) / 49.0 * 100) AS '60-69',\n",
    "        (SUM(CASE WHEN Age BETWEEN 70 and 79 THEN 1 ELSE 0 END)  / 14.0 * 100) AS '70-79',\n",
    "        (SUM(CASE WHEN Age BETWEEN 80 and 89 THEN 1 ELSE 0 END) / 1.0 * 100) AS '80-89',\n",
    "        (SUM(CASE WHEN Age BETWEEN 90 and 99 THEN 1 ELSE 0 END) / 54.0 * 100) AS '90-99'\n",
    "FROM `users`\n",
    "\n",
    "\n",
    "WHERE Location LIKE \"%india%\"\n",
    "\"\"\""
   ]
  },
  {
   "cell_type": "code",
   "execution_count": 21,
   "metadata": {
    "collapsed": false,
    "slideshow": {
     "slide_type": "skip"
    }
   },
   "outputs": [
    {
     "data": {
      "text/html": [
       "<div>\n",
       "<table border=\"1\" class=\"dataframe\">\n",
       "  <thead>\n",
       "    <tr style=\"text-align: right;\">\n",
       "      <th></th>\n",
       "      <th>Under 9</th>\n",
       "      <th>10-19</th>\n",
       "      <th>20-29</th>\n",
       "      <th>30-39</th>\n",
       "      <th>40-49</th>\n",
       "      <th>50-59</th>\n",
       "      <th>60-69</th>\n",
       "      <th>70-79</th>\n",
       "      <th>80-89</th>\n",
       "      <th>90-99</th>\n",
       "    </tr>\n",
       "  </thead>\n",
       "  <tbody>\n",
       "    <tr>\n",
       "      <th>0</th>\n",
       "      <td>0.0</td>\n",
       "      <td>13.3333</td>\n",
       "      <td>11.5465</td>\n",
       "      <td>3.254</td>\n",
       "      <td>1.1189</td>\n",
       "      <td>0.5814</td>\n",
       "      <td>0.0</td>\n",
       "      <td>7.1429</td>\n",
       "      <td>0.0</td>\n",
       "      <td>0.0</td>\n",
       "    </tr>\n",
       "  </tbody>\n",
       "</table>\n",
       "</div>"
      ],
      "text/plain": [
       "   Under 9    10-19    20-29  30-39   40-49   50-59  60-69   70-79  80-89  \\\n",
       "0      0.0  13.3333  11.5465  3.254  1.1189  0.5814    0.0  7.1429    0.0   \n",
       "\n",
       "   90-99  \n",
       "0    0.0  "
      ]
     },
     "execution_count": 21,
     "metadata": {},
     "output_type": "execute_result"
    }
   ],
   "source": [
    "df66 = pd.read_sql(sql_query8, conn)\n",
    "df66.head()"
   ]
  },
  {
   "cell_type": "code",
   "execution_count": 22,
   "metadata": {
    "collapsed": false,
    "slideshow": {
     "slide_type": "skip"
    }
   },
   "outputs": [
    {
     "data": {
      "text/html": [
       "<div>\n",
       "<table border=\"1\" class=\"dataframe\">\n",
       "  <thead>\n",
       "    <tr style=\"text-align: right;\">\n",
       "      <th></th>\n",
       "      <th>0</th>\n",
       "    </tr>\n",
       "  </thead>\n",
       "  <tbody>\n",
       "    <tr>\n",
       "      <th>Under 9</th>\n",
       "      <td>0.0000</td>\n",
       "    </tr>\n",
       "    <tr>\n",
       "      <th>10-19</th>\n",
       "      <td>13.3333</td>\n",
       "    </tr>\n",
       "    <tr>\n",
       "      <th>20-29</th>\n",
       "      <td>11.5465</td>\n",
       "    </tr>\n",
       "    <tr>\n",
       "      <th>30-39</th>\n",
       "      <td>3.2540</td>\n",
       "    </tr>\n",
       "    <tr>\n",
       "      <th>40-49</th>\n",
       "      <td>1.1189</td>\n",
       "    </tr>\n",
       "  </tbody>\n",
       "</table>\n",
       "</div>"
      ],
      "text/plain": [
       "               0\n",
       "Under 9   0.0000\n",
       "10-19    13.3333\n",
       "20-29    11.5465\n",
       "30-39     3.2540\n",
       "40-49     1.1189"
      ]
     },
     "execution_count": 22,
     "metadata": {},
     "output_type": "execute_result"
    }
   ],
   "source": [
    "df66=df66.T\n",
    "df66.head()"
   ]
  },
  {
   "cell_type": "code",
   "execution_count": 23,
   "metadata": {
    "collapsed": false,
    "slideshow": {
     "slide_type": "subslide"
    }
   },
   "outputs": [
    {
     "data": {
      "text/plain": [
       "<matplotlib.figure.Figure at 0xa658438>"
      ]
     },
     "metadata": {},
     "output_type": "display_data"
    },
    {
     "data": {
      "image/png": "[encoded data removed]",
      "text/plain": [
       "<matplotlib.figure.Figure at 0xa7b3e80>"
      ]
     },
     "metadata": {},
     "output_type": "display_data"
    }
   ],
   "source": [
    "plt.figure()\n",
    "ax1 = df66[[0]].plot(kind='bar', title =\"Relative frequency of India as a location per age group (in %)\", figsize=(12, 6), legend=False,\n",
    "fontsize=9)\n",
    "plt.show()"
   ]
  },
  {
   "cell_type": "raw",
   "metadata": {
    "slideshow": {
     "slide_type": "skip"
    }
   },
   "source": [
    "On the one hand, the relative frequency of India highlights that Indian users make up about 10 percent of the lower age ranges (10-29). This would have been less visible when using the absolute frequency. \n",
    "\n",
    "On the other hand it does give a problem for the age group of 70-79 which includes only one user from India, yet the graph shows that a significant percentage of forum users in age range 70-79 is living in India. Nevertheless, it is still interesting that more than 10 percent of all users within range 10-29 live in India. It is possible this percentage is even higher when we take locations such like *Dehli* or *Calcutta* into account as well. \n",
    "\n",
    "The rise of Indian users on the statistics forum could be contributed to many reasons. Although the database does not contain information about these possible causes, we hypothesise the increased access to internet could play a crucial role.\n",
    "\n",
    "The fact that the forum users from India are predominantly young people is even more clear when compared to the relative frequency of the location input *kingdom* per age group. "
   ]
  },
  {
   "cell_type": "code",
   "execution_count": 13,
   "metadata": {
    "collapsed": true,
    "slideshow": {
     "slide_type": "slide"
    }
   },
   "outputs": [],
   "source": [
    "sql_query99 = \"\"\"SELECT \n",
    "        SUM(CASE WHEN Age < 9 THEN 1 ELSE 0 END) AS 'Under 9',\n",
    "        (SUM(CASE WHEN Age Between 10 AND 19 THEN 1 ELSE 0 END) / 90.0 * 100) AS '10-19',\n",
    "        (SUM(CASE WHEN Age BETWEEN 20 AND 29 THEN 1 ELSE 0 END) / 3369.0 * 100) AS '20-29',\n",
    "        (SUM(CASE WHEN Age BETWEEN 30 AND 39 THEN 1 ELSE 0 END) / 2858.0 * 100) AS '30-39',\n",
    "        (SUM(CASE WHEN Age BETWEEN 40 AND 49 THEN 1 ELSE 0 END) / 715.0 * 100) AS '40-49',\n",
    "        (SUM(CASE WHEN Age BETWEEN 50 and 59 THEN 1 ELSE 0 END) / 172.0 * 100) AS '50-59',\n",
    "        (SUM(CASE WHEN Age BETWEEN 60 and 69 THEN 1 ELSE 0 END) / 49.0 * 100) AS '60-69',\n",
    "        (SUM(CASE WHEN Age BETWEEN 70 and 79 THEN 1 ELSE 0 END)  / 14.0 * 100) AS '70-79',\n",
    "        (SUM(CASE WHEN Age BETWEEN 80 and 89 THEN 1 ELSE 0 END) / 1.0 * 100) AS '80-89',\n",
    "        (SUM(CASE WHEN Age BETWEEN 90 and 99 THEN 1 ELSE 0 END) / 54.0 * 100) AS '90-99'\n",
    "FROM `users`\n",
    "\n",
    "\n",
    "WHERE Location LIKE \"%kingdom%\"\n",
    "\n",
    "\"\"\""
   ]
  },
  {
   "cell_type": "code",
   "execution_count": 14,
   "metadata": {
    "collapsed": false,
    "slideshow": {
     "slide_type": "skip"
    }
   },
   "outputs": [],
   "source": [
    "df99 = pd.read_sql(sql_query99, conn)\n",
    "df99 = df99.T"
   ]
  },
  {
   "cell_type": "code",
   "execution_count": 15,
   "metadata": {
    "collapsed": false,
    "slideshow": {
     "slide_type": "subslide"
    }
   },
   "outputs": [
    {
     "data": {
      "text/plain": [
       "<matplotlib.figure.Figure at 0xa596fd0>"
      ]
     },
     "metadata": {},
     "output_type": "display_data"
    },
    {
     "data": {
      "image/png": "[encoded data removed]",
      "text/plain": [
       "<matplotlib.figure.Figure at 0xa697e10>"
      ]
     },
     "metadata": {},
     "output_type": "display_data"
    }
   ],
   "source": [
    "plt.figure()\n",
    "ax1 = df99[[0]].plot(kind='bar', title =\"Relative frequency of the United Kingdom as a location per age group (in %)\", figsize=(12, 6), legend=False,\n",
    "fontsize=9)\n",
    "plt.show()"
   ]
  },
  {
   "cell_type": "markdown",
   "metadata": {
    "slideshow": {
     "slide_type": "skip"
    }
   },
   "source": [
    "The relative importance of users from the United Kingdom contributes more \"consistently\" compared to the forums total amount of users compared to the users from India."
   ]
  },
  {
   "cell_type": "markdown",
   "metadata": {
    "slideshow": {
     "slide_type": "skip"
    }
   },
   "source": [
    "The bar chart above gives an overview of how one geographical location can be represented over the different age groups. Unfortunately, the word clouds cannot provide us with an objective comparison where most users within each age range live. \n",
    "\n",
    "To solve this challenge, we will utilise the Jaccard index and try to establish the similarities of location inputs for age ranges. Each operation compares two age ranges against one another (10-19 against 20-29, 20-29 against 30-39). We have chosen not to include the age ranges above 50-59 due to the low amount of users and location entries in those age ranges.\n",
    "\n",
    "To this objective, we exported Json-files from Voyant for the comparisons. \n",
    "Please note that in the tables below the amount of times a specific location occurs within a specific age group can be different from the calculations made with previous queries above. \n",
    "\n",
    "This is because we used SQL for the calculations in the table above, while the table below is based on calculations by the Voyant tool. Since terms like 'india' do not always appear an sich but with other strings like 'New Dehli, india' or even '%%''india!!%µ' as well. Due to this difference, we assume SQL and Voyant use different string recognition methods."
   ]
  },
  {
   "cell_type": "markdown",
   "metadata": {
    "slideshow": {
     "slide_type": "slide"
    }
   },
   "source": [
    "### Comparison of the location similarity for the different age groups"
   ]
  },
  {
   "cell_type": "markdown",
   "metadata": {
    "slideshow": {
     "slide_type": "fragment"
    }
   },
   "source": [
    "- Export of Json-files from voyant\n",
    "\n",
    "- Calculation of Jaccard Similarity Coefficient\n",
    "\n",
    "- Filtering of nonsense-inputs"
   ]
  },
  {
   "cell_type": "code",
   "execution_count": 43,
   "metadata": {
    "collapsed": false,
    "scrolled": false,
    "slideshow": {
     "slide_type": "slide"
    }
   },
   "outputs": [
    {
     "data": {
      "text/html": [
       "<div>\n",
       "<table border=\"1\" class=\"dataframe\">\n",
       "  <thead>\n",
       "    <tr style=\"text-align: right;\">\n",
       "      <th></th>\n",
       "      <th>#</th>\n",
       "      <th>Count</th>\n",
       "      <th>Relative</th>\n",
       "      <th>Term</th>\n",
       "      <th>Trend</th>\n",
       "    </tr>\n",
       "  </thead>\n",
       "  <tbody>\n",
       "    <tr>\n",
       "      <th>0</th>\n",
       "      <td>0</td>\n",
       "      <td>12</td>\n",
       "      <td>61855.670</td>\n",
       "      <td>india</td>\n",
       "      <td>[0, 0.005154639, 0.0154639175, 0.010309278, 0....</td>\n",
       "    </tr>\n",
       "    <tr>\n",
       "      <th>1</th>\n",
       "      <td>0</td>\n",
       "      <td>7</td>\n",
       "      <td>36082.473</td>\n",
       "      <td>kingdom</td>\n",
       "      <td>[0.005154639, 0.010309278, 0.005154639, 0, 0, ...</td>\n",
       "    </tr>\n",
       "    <tr>\n",
       "      <th>2</th>\n",
       "      <td>0</td>\n",
       "      <td>7</td>\n",
       "      <td>36082.473</td>\n",
       "      <td>new</td>\n",
       "      <td>[0.005154639, 0, 0.005154639, 0.005154639, 0.0...</td>\n",
       "    </tr>\n",
       "    <tr>\n",
       "      <th>3</th>\n",
       "      <td>0</td>\n",
       "      <td>5</td>\n",
       "      <td>25773.195</td>\n",
       "      <td>germany</td>\n",
       "      <td>[0, 0.005154639, 0, 0.010309278, 0.005154639, ...</td>\n",
       "    </tr>\n",
       "    <tr>\n",
       "      <th>4</th>\n",
       "      <td>0</td>\n",
       "      <td>5</td>\n",
       "      <td>25773.195</td>\n",
       "      <td>states</td>\n",
       "      <td>[0, 0.005154639, 0.005154639, 0, 0.005154639, ...</td>\n",
       "    </tr>\n",
       "  </tbody>\n",
       "</table>\n",
       "</div>"
      ],
      "text/plain": [
       "   #  Count   Relative     Term  \\\n",
       "0  0     12  61855.670    india   \n",
       "1  0      7  36082.473  kingdom   \n",
       "2  0      7  36082.473      new   \n",
       "3  0      5  25773.195  germany   \n",
       "4  0      5  25773.195   states   \n",
       "\n",
       "                                               Trend  \n",
       "0  [0, 0.005154639, 0.0154639175, 0.010309278, 0....  \n",
       "1  [0.005154639, 0.010309278, 0.005154639, 0, 0, ...  \n",
       "2  [0.005154639, 0, 0.005154639, 0.005154639, 0.0...  \n",
       "3  [0, 0.005154639, 0, 0.010309278, 0.005154639, ...  \n",
       "4  [0, 0.005154639, 0.005154639, 0, 0.005154639, ...  "
      ]
     },
     "execution_count": 43,
     "metadata": {},
     "output_type": "execute_result"
    }
   ],
   "source": [
    "df6 = pd.read_json('location_10to19.json', conn)\n",
    "df6.head()"
   ]
  },
  {
   "cell_type": "code",
   "execution_count": 44,
   "metadata": {
    "collapsed": false,
    "slideshow": {
     "slide_type": "subslide"
    }
   },
   "outputs": [
    {
     "data": {
      "text/html": [
       "<div>\n",
       "<table border=\"1\" class=\"dataframe\">\n",
       "  <thead>\n",
       "    <tr style=\"text-align: right;\">\n",
       "      <th></th>\n",
       "      <th>#</th>\n",
       "      <th>Count</th>\n",
       "      <th>Relative</th>\n",
       "      <th>Term</th>\n",
       "      <th>Trend</th>\n",
       "    </tr>\n",
       "  </thead>\n",
       "  <tbody>\n",
       "    <tr>\n",
       "      <th>0</th>\n",
       "      <td>0</td>\n",
       "      <td>377</td>\n",
       "      <td>58187.992</td>\n",
       "      <td>india</td>\n",
       "      <td>[0.004321655, 0.004475999, 0.004012965, 0.0060...</td>\n",
       "    </tr>\n",
       "    <tr>\n",
       "      <th>1</th>\n",
       "      <td>0</td>\n",
       "      <td>193</td>\n",
       "      <td>29788.549</td>\n",
       "      <td>kingdom</td>\n",
       "      <td>[0.0033955858, 0.0029325513, 0.0033955858, 0.0...</td>\n",
       "    </tr>\n",
       "    <tr>\n",
       "      <th>2</th>\n",
       "      <td>0</td>\n",
       "      <td>133</td>\n",
       "      <td>20527.860</td>\n",
       "      <td>ca</td>\n",
       "      <td>[0.0024695168, 0.002315172, 0.0024695168, 0.00...</td>\n",
       "    </tr>\n",
       "    <tr>\n",
       "      <th>3</th>\n",
       "      <td>0</td>\n",
       "      <td>133</td>\n",
       "      <td>20527.860</td>\n",
       "      <td>canada</td>\n",
       "      <td>[0.003241241, 0.0013891032, 0.0016977929, 0.00...</td>\n",
       "    </tr>\n",
       "    <tr>\n",
       "      <th>4</th>\n",
       "      <td>0</td>\n",
       "      <td>115</td>\n",
       "      <td>17749.652</td>\n",
       "      <td>germany</td>\n",
       "      <td>[0.0009260688, 0.0020064826, 0.0020064826, 0.0...</td>\n",
       "    </tr>\n",
       "  </tbody>\n",
       "</table>\n",
       "</div>"
      ],
      "text/plain": [
       "   #  Count   Relative     Term  \\\n",
       "0  0    377  58187.992    india   \n",
       "1  0    193  29788.549  kingdom   \n",
       "2  0    133  20527.860       ca   \n",
       "3  0    133  20527.860   canada   \n",
       "4  0    115  17749.652  germany   \n",
       "\n",
       "                                               Trend  \n",
       "0  [0.004321655, 0.004475999, 0.004012965, 0.0060...  \n",
       "1  [0.0033955858, 0.0029325513, 0.0033955858, 0.0...  \n",
       "2  [0.0024695168, 0.002315172, 0.0024695168, 0.00...  \n",
       "3  [0.003241241, 0.0013891032, 0.0016977929, 0.00...  \n",
       "4  [0.0009260688, 0.0020064826, 0.0020064826, 0.0...  "
      ]
     },
     "execution_count": 44,
     "metadata": {},
     "output_type": "execute_result"
    }
   ],
   "source": [
    "df7 = pd.read_json('location_20to29.json', conn)\n",
    "df7.head()"
   ]
  },
  {
   "cell_type": "code",
   "execution_count": 45,
   "metadata": {
    "collapsed": false,
    "slideshow": {
     "slide_type": "skip"
    }
   },
   "outputs": [],
   "source": [
    "pd3I = pd.merge(df6[:], df7[:], how='inner', on=['Term'])"
   ]
  },
  {
   "cell_type": "code",
   "execution_count": 46,
   "metadata": {
    "collapsed": false,
    "slideshow": {
     "slide_type": "skip"
    }
   },
   "outputs": [],
   "source": [
    "pd3U = pd.merge(df6[:], df7[:], how='outer', on=['Term'])"
   ]
  },
  {
   "cell_type": "code",
   "execution_count": 47,
   "metadata": {
    "collapsed": false,
    "slideshow": {
     "slide_type": "subslide"
    }
   },
   "outputs": [
    {
     "data": {
      "text/plain": [
       "0.06782768102658111"
      ]
     },
     "execution_count": 47,
     "metadata": {},
     "output_type": "execute_result"
    }
   ],
   "source": [
    "pd3I['Term'].size/float(pd3U['Term'].size)"
   ]
  },
  {
   "cell_type": "markdown",
   "metadata": {
    "slideshow": {
     "slide_type": "skip"
    }
   },
   "source": [
    "A low Jaccard similarity coefficient suggests that there is an almost significant difference between the location inputs of users between 10 and 19 years old and those between 20 and 29 years old. In other words, the users in age range 10-19 often live in different countries or places than their counterparts in age range 20-29.\n",
    "\n",
    "To make the comparison more tangible, we eliminated nonsensical location inputs. Since almost all of these are unique inputs. One way to ignore these non-existent locations in the Jaccard index calculation would be to remove them from the location data. The downside of this operation is that countries that only appear once in our dataset would be removed as well. A Python script will remove the locations for both age groups that only appear once in the Json-file."
   ]
  },
  {
   "cell_type": "code",
   "execution_count": 48,
   "metadata": {
    "collapsed": true,
    "slideshow": {
     "slide_type": "subslide"
    }
   },
   "outputs": [],
   "source": [
    "newlist = []\n",
    "with open(\"location_10to19.json\") as json_data:\n",
    "    data = json.load(json_data)\n",
    "\n",
    "    for element in data:\n",
    "\n",
    "        if element[\"Count\"] != 1:\n",
    "            newlist.append(element)\n",
    "\n",
    "with open(\"top_words.json\", \"w\") as outfile:\n",
    "    json.dump(newlist, outfile)\n",
    "\n",
    "json_data.close()\n",
    "outfile.close()"
   ]
  },
  {
   "cell_type": "code",
   "execution_count": 49,
   "metadata": {
    "collapsed": true,
    "slideshow": {
     "slide_type": "skip"
    }
   },
   "outputs": [],
   "source": [
    "newlist = []\n",
    "with open(\"location_20to29.json\") as json_data:\n",
    "    data = json.load(json_data)\n",
    "\n",
    "    for element in data:\n",
    "\n",
    "        if element[\"Count\"] != 1:\n",
    "            newlist.append(element)\n",
    "\n",
    "with open(\"top_words2.json\", \"w\") as outfile:\n",
    "    json.dump(newlist, outfile)\n",
    "\n",
    "json_data.close()\n",
    "outfile.close()"
   ]
  },
  {
   "cell_type": "code",
   "execution_count": 50,
   "metadata": {
    "collapsed": false,
    "slideshow": {
     "slide_type": "subslide"
    }
   },
   "outputs": [
    {
     "data": {
      "text/plain": [
       "0.04225352112676056"
      ]
     },
     "execution_count": 50,
     "metadata": {},
     "output_type": "execute_result"
    }
   ],
   "source": [
    "df8 = pd.read_json('top_words.json', conn)\n",
    "df9 = pd.read_json('top_words2.json', conn)\n",
    "pd4I = pd.merge(df8[:], df9[:], how='inner', on=['Term'])\n",
    "pd4U = pd.merge(df8[:], df9[:], how='outer', on=['Term'])\n",
    "pd4I['Term'].size/float(pd4U['Term'].size)"
   ]
  },
  {
   "cell_type": "markdown",
   "metadata": {
    "slideshow": {
     "slide_type": "skip"
    }
   },
   "source": [
    "The result is rather surprising. When all unique locations are removed, the locations entries for the different age ranges are less similar than before. In this case, there seems to be some importance for small places that are present in both age groups. Most users in these age ranges hail from the United Kingdom, the United States, Germany and Australia.\n",
    "\n",
    "A possible explanation for the impact of the unique locations is that the total amount of location entries for age range 10 to 19 is not that high and therefore, elimating the unique locations affects the score dramatically.\n",
    "Furthermore, unique locations seem to have a higher impact on the Jaccard similarity coefficient.\n",
    "\n",
    "Nevertheless, the conclusion remains that the users aged 10 to 19 do not share many location entries with those in age range 20 to 29.\n",
    "\n",
    "The age category 20-29 is the largest one on the forum; it will be interesting to see how different or similar the location entries for age range 20-29 compared to 30-39, the second biggest group of users on the forum."
   ]
  },
  {
   "cell_type": "code",
   "execution_count": 51,
   "metadata": {
    "collapsed": false,
    "slideshow": {
     "slide_type": "slide"
    }
   },
   "outputs": [
    {
     "data": {
      "text/html": [
       "<div>\n",
       "<table border=\"1\" class=\"dataframe\">\n",
       "  <thead>\n",
       "    <tr style=\"text-align: right;\">\n",
       "      <th></th>\n",
       "      <th>#</th>\n",
       "      <th>Count</th>\n",
       "      <th>Relative</th>\n",
       "      <th>Term</th>\n",
       "      <th>Trend</th>\n",
       "    </tr>\n",
       "  </thead>\n",
       "  <tbody>\n",
       "    <tr>\n",
       "      <th>0</th>\n",
       "      <td>0</td>\n",
       "      <td>239</td>\n",
       "      <td>41242.450</td>\n",
       "      <td>kingdom</td>\n",
       "      <td>[0.0050043142, 0.0048317513, 0.0048317513, 0.0...</td>\n",
       "    </tr>\n",
       "    <tr>\n",
       "      <th>1</th>\n",
       "      <td>0</td>\n",
       "      <td>167</td>\n",
       "      <td>28817.945</td>\n",
       "      <td>ca</td>\n",
       "      <td>[0.0039689387, 0.0029335634, 0.0032786885, 0.0...</td>\n",
       "    </tr>\n",
       "    <tr>\n",
       "      <th>2</th>\n",
       "      <td>0</td>\n",
       "      <td>139</td>\n",
       "      <td>23986.193</td>\n",
       "      <td>germany</td>\n",
       "      <td>[0.0018981881, 0.0024158757, 0.0027610008, 0.0...</td>\n",
       "    </tr>\n",
       "    <tr>\n",
       "      <th>3</th>\n",
       "      <td>0</td>\n",
       "      <td>111</td>\n",
       "      <td>19154.445</td>\n",
       "      <td>states</td>\n",
       "      <td>[0.0015530629, 0.0017256256, 0.0031061259, 0.0...</td>\n",
       "    </tr>\n",
       "    <tr>\n",
       "      <th>4</th>\n",
       "      <td>0</td>\n",
       "      <td>95</td>\n",
       "      <td>16393.441</td>\n",
       "      <td>australia</td>\n",
       "      <td>[0.0034512512, 0.0008628128, 0.0015530629, 0.0...</td>\n",
       "    </tr>\n",
       "  </tbody>\n",
       "</table>\n",
       "</div>"
      ],
      "text/plain": [
       "   #  Count   Relative       Term  \\\n",
       "0  0    239  41242.450    kingdom   \n",
       "1  0    167  28817.945         ca   \n",
       "2  0    139  23986.193    germany   \n",
       "3  0    111  19154.445     states   \n",
       "4  0     95  16393.441  australia   \n",
       "\n",
       "                                               Trend  \n",
       "0  [0.0050043142, 0.0048317513, 0.0048317513, 0.0...  \n",
       "1  [0.0039689387, 0.0029335634, 0.0032786885, 0.0...  \n",
       "2  [0.0018981881, 0.0024158757, 0.0027610008, 0.0...  \n",
       "3  [0.0015530629, 0.0017256256, 0.0031061259, 0.0...  \n",
       "4  [0.0034512512, 0.0008628128, 0.0015530629, 0.0...  "
      ]
     },
     "execution_count": 51,
     "metadata": {},
     "output_type": "execute_result"
    }
   ],
   "source": [
    "df10 = pd.read_json('location_30to39.json', conn)\n",
    "df10.head()"
   ]
  },
  {
   "cell_type": "code",
   "execution_count": 52,
   "metadata": {
    "collapsed": false,
    "slideshow": {
     "slide_type": "skip"
    }
   },
   "outputs": [
    {
     "data": {
      "text/plain": [
       "0.37688098495212036"
      ]
     },
     "execution_count": 52,
     "metadata": {},
     "output_type": "execute_result"
    }
   ],
   "source": [
    "pd5I = pd.merge(df7[:], df10[:], how='inner', on=['Term'])\n",
    "pd5U = pd.merge(df7[:], df10[:], how='outer', on=['Term'])\n",
    "pd5I['Term'].size/float(pd5U['Term'].size)"
   ]
  },
  {
   "cell_type": "code",
   "execution_count": 53,
   "metadata": {
    "collapsed": true,
    "slideshow": {
     "slide_type": "skip"
    }
   },
   "outputs": [],
   "source": [
    "newlist = []\n",
    "with open(\"location_30to39.json\") as json_data:\n",
    "    data = json.load(json_data)\n",
    "\n",
    "    for element in data:\n",
    "\n",
    "        if element[\"Count\"] != 1:\n",
    "            newlist.append(element)\n",
    "\n",
    "with open(\"top_words3.json\", \"w\") as outfile:\n",
    "    json.dump(newlist, outfile)\n",
    "\n",
    "json_data.close()\n",
    "outfile.close()"
   ]
  },
  {
   "cell_type": "code",
   "execution_count": 54,
   "metadata": {
    "collapsed": false,
    "slideshow": {
     "slide_type": "fragment"
    }
   },
   "outputs": [
    {
     "data": {
      "text/plain": [
       "0.5631229235880398"
      ]
     },
     "execution_count": 54,
     "metadata": {},
     "output_type": "execute_result"
    }
   ],
   "source": [
    "df11 = pd.read_json('top_words3.json', conn)\n",
    "pd6I = pd.merge(df9[:], df11[:], how='inner', on=['Term'])\n",
    "pd6U = pd.merge(df9[:], df11[:], how='outer', on=['Term'])\n",
    "pd6I['Term'].size/float(pd6U['Term'].size)"
   ]
  },
  {
   "cell_type": "markdown",
   "metadata": {
    "slideshow": {
     "slide_type": "skip"
    }
   },
   "source": [
    "The two largest age groups of the forum come from similar places. Their Jaccard similarity coefficient is quite high, especially when compared to the result for age ranges 10-19 and 20-29. \n",
    "\n",
    "For ranges 20-29 and 30-39, the Jaccard index rises significantly when the unique locations are removed. \n",
    "The age groups that are by far the most represented on the forum, seem to have many location entries in common.\n",
    "This means that the forum does not only have an \"age majority\" on the forum, but also a majority based on geographical location. Based on the information retrieved, we can state that a rather large part of this subset of user hail from the Anglosaxon world."
   ]
  },
  {
   "cell_type": "code",
   "execution_count": 55,
   "metadata": {
    "collapsed": false,
    "slideshow": {
     "slide_type": "slide"
    }
   },
   "outputs": [
    {
     "data": {
      "text/html": [
       "<div>\n",
       "<table border=\"1\" class=\"dataframe\">\n",
       "  <thead>\n",
       "    <tr style=\"text-align: right;\">\n",
       "      <th></th>\n",
       "      <th>#</th>\n",
       "      <th>Count</th>\n",
       "      <th>Relative</th>\n",
       "      <th>Term</th>\n",
       "      <th>Trend</th>\n",
       "    </tr>\n",
       "  </thead>\n",
       "  <tbody>\n",
       "    <tr>\n",
       "      <th>0</th>\n",
       "      <td>0</td>\n",
       "      <td>78</td>\n",
       "      <td>52348.992</td>\n",
       "      <td>kingdom</td>\n",
       "      <td>[0.0060402686, 0.009395973, 0.0067114094, 0.00...</td>\n",
       "    </tr>\n",
       "    <tr>\n",
       "      <th>1</th>\n",
       "      <td>0</td>\n",
       "      <td>40</td>\n",
       "      <td>26845.639</td>\n",
       "      <td>ca</td>\n",
       "      <td>[0.0033557047, 0.0026845639, 0.0020134228, 0.0...</td>\n",
       "    </tr>\n",
       "    <tr>\n",
       "      <th>2</th>\n",
       "      <td>0</td>\n",
       "      <td>36</td>\n",
       "      <td>24161.074</td>\n",
       "      <td>states</td>\n",
       "      <td>[0.0046979864, 0.0020134228, 0.0013422819, 0.0...</td>\n",
       "    </tr>\n",
       "    <tr>\n",
       "      <th>3</th>\n",
       "      <td>0</td>\n",
       "      <td>29</td>\n",
       "      <td>19463.086</td>\n",
       "      <td>new</td>\n",
       "      <td>[0.0026845639, 0.0013422819, 0.0020134228, 0, ...</td>\n",
       "    </tr>\n",
       "    <tr>\n",
       "      <th>4</th>\n",
       "      <td>0</td>\n",
       "      <td>28</td>\n",
       "      <td>18791.945</td>\n",
       "      <td>london</td>\n",
       "      <td>[0.0013422819, 0.00067114097, 0.0033557047, 0....</td>\n",
       "    </tr>\n",
       "  </tbody>\n",
       "</table>\n",
       "</div>"
      ],
      "text/plain": [
       "   #  Count   Relative     Term  \\\n",
       "0  0     78  52348.992  kingdom   \n",
       "1  0     40  26845.639       ca   \n",
       "2  0     36  24161.074   states   \n",
       "3  0     29  19463.086      new   \n",
       "4  0     28  18791.945   london   \n",
       "\n",
       "                                               Trend  \n",
       "0  [0.0060402686, 0.009395973, 0.0067114094, 0.00...  \n",
       "1  [0.0033557047, 0.0026845639, 0.0020134228, 0.0...  \n",
       "2  [0.0046979864, 0.0020134228, 0.0013422819, 0.0...  \n",
       "3  [0.0026845639, 0.0013422819, 0.0020134228, 0, ...  \n",
       "4  [0.0013422819, 0.00067114097, 0.0033557047, 0....  "
      ]
     },
     "execution_count": 55,
     "metadata": {},
     "output_type": "execute_result"
    }
   ],
   "source": [
    "df12 = pd.read_json('location_40to49.json', conn)\n",
    "df12.head()"
   ]
  },
  {
   "cell_type": "code",
   "execution_count": 56,
   "metadata": {
    "collapsed": false,
    "slideshow": {
     "slide_type": "fragment"
    }
   },
   "outputs": [
    {
     "data": {
      "text/plain": [
       "0.2792149866190901"
      ]
     },
     "execution_count": 56,
     "metadata": {},
     "output_type": "execute_result"
    }
   ],
   "source": [
    "pd6I = pd.merge(df10[:], df12[:], how='inner', on=['Term'])\n",
    "pd6U = pd.merge(df10[:], df12[:], how='outer', on=['Term'])\n",
    "pd6I['Term'].size/float(pd6U['Term'].size)"
   ]
  },
  {
   "cell_type": "code",
   "execution_count": 57,
   "metadata": {
    "collapsed": true,
    "slideshow": {
     "slide_type": "skip"
    }
   },
   "outputs": [],
   "source": [
    "newlist = []\n",
    "with open(\"location_40to49.json\") as json_data:\n",
    "    data = json.load(json_data)\n",
    "\n",
    "    for element in data:\n",
    "\n",
    "        if element[\"Count\"] != 1:\n",
    "            newlist.append(element)\n",
    "\n",
    "with open(\"top_words4.json\", \"w\") as outfile:\n",
    "    json.dump(newlist, outfile)\n",
    "\n",
    "json_data.close()\n",
    "outfile.close()"
   ]
  },
  {
   "cell_type": "code",
   "execution_count": 58,
   "metadata": {
    "collapsed": false,
    "slideshow": {
     "slide_type": "subslide"
    }
   },
   "outputs": [
    {
     "data": {
      "text/plain": [
       "0.3361884368308351"
      ]
     },
     "execution_count": 58,
     "metadata": {},
     "output_type": "execute_result"
    }
   ],
   "source": [
    "df13 = pd.read_json('top_words4.json', conn)\n",
    "pd7I = pd.merge(df11[:], df13[:], how='inner', on=['Term'])\n",
    "pd7U = pd.merge(df11[:], df13[:], how='outer', on=['Term'])\n",
    "pd7I['Term'].size/float(pd7U['Term'].size)"
   ]
  },
  {
   "cell_type": "markdown",
   "metadata": {
    "slideshow": {
     "slide_type": "skip"
    }
   },
   "source": [
    "The next two age ranges, 30-39 and 40-49, also seem to have a significant amount of location entries in common. \n",
    "Once again does the elimination of unique locations contribute to increasing the similarity score. \n",
    "The age group 40-49 also seems to be part of the geographically dominant group on the forum with the majority of location inputs being located in Anglosaxon countries."
   ]
  },
  {
   "cell_type": "code",
   "execution_count": 59,
   "metadata": {
    "collapsed": false,
    "slideshow": {
     "slide_type": "slide"
    }
   },
   "outputs": [
    {
     "data": {
      "text/html": [
       "<div>\n",
       "<table border=\"1\" class=\"dataframe\">\n",
       "  <thead>\n",
       "    <tr style=\"text-align: right;\">\n",
       "      <th></th>\n",
       "      <th>#</th>\n",
       "      <th>Count</th>\n",
       "      <th>Relative</th>\n",
       "      <th>Term</th>\n",
       "      <th>Trend</th>\n",
       "    </tr>\n",
       "  </thead>\n",
       "  <tbody>\n",
       "    <tr>\n",
       "      <th>0</th>\n",
       "      <td>0</td>\n",
       "      <td>14</td>\n",
       "      <td>38043.477</td>\n",
       "      <td>ca</td>\n",
       "      <td>[0.0027173914, 0.0054347827, 0.0027173914, 0.0...</td>\n",
       "    </tr>\n",
       "    <tr>\n",
       "      <th>1</th>\n",
       "      <td>0</td>\n",
       "      <td>12</td>\n",
       "      <td>32608.695</td>\n",
       "      <td>kingdom</td>\n",
       "      <td>[0, 0.0054347827, 0.0054347827, 0.0027173914, ...</td>\n",
       "    </tr>\n",
       "    <tr>\n",
       "      <th>2</th>\n",
       "      <td>0</td>\n",
       "      <td>11</td>\n",
       "      <td>29891.305</td>\n",
       "      <td>new</td>\n",
       "      <td>[0.0027173914, 0.0027173914, 0.0054347827, 0, ...</td>\n",
       "    </tr>\n",
       "    <tr>\n",
       "      <th>3</th>\n",
       "      <td>0</td>\n",
       "      <td>10</td>\n",
       "      <td>27173.912</td>\n",
       "      <td>states</td>\n",
       "      <td>[0.0027173914, 0.0027173914, 0, 0, 0, 0.002717...</td>\n",
       "    </tr>\n",
       "    <tr>\n",
       "      <th>4</th>\n",
       "      <td>0</td>\n",
       "      <td>9</td>\n",
       "      <td>24456.521</td>\n",
       "      <td>york</td>\n",
       "      <td>[0.0027173914, 0.0027173914, 0.0054347827, 0, ...</td>\n",
       "    </tr>\n",
       "  </tbody>\n",
       "</table>\n",
       "</div>"
      ],
      "text/plain": [
       "   #  Count   Relative     Term  \\\n",
       "0  0     14  38043.477       ca   \n",
       "1  0     12  32608.695  kingdom   \n",
       "2  0     11  29891.305      new   \n",
       "3  0     10  27173.912   states   \n",
       "4  0      9  24456.521     york   \n",
       "\n",
       "                                               Trend  \n",
       "0  [0.0027173914, 0.0054347827, 0.0027173914, 0.0...  \n",
       "1  [0, 0.0054347827, 0.0054347827, 0.0027173914, ...  \n",
       "2  [0.0027173914, 0.0027173914, 0.0054347827, 0, ...  \n",
       "3  [0.0027173914, 0.0027173914, 0, 0, 0, 0.002717...  \n",
       "4  [0.0027173914, 0.0027173914, 0.0054347827, 0, ...  "
      ]
     },
     "execution_count": 59,
     "metadata": {},
     "output_type": "execute_result"
    }
   ],
   "source": [
    "df14 = pd.read_json('location_50to59.json', conn)\n",
    "df14.head()"
   ]
  },
  {
   "cell_type": "code",
   "execution_count": 60,
   "metadata": {
    "collapsed": false,
    "slideshow": {
     "slide_type": "fragment"
    }
   },
   "outputs": [
    {
     "data": {
      "text/plain": [
       "0.23177570093457944"
      ]
     },
     "execution_count": 60,
     "metadata": {},
     "output_type": "execute_result"
    }
   ],
   "source": [
    "pd8I = pd.merge(df12[:], df14[:], how='inner', on=['Term'])\n",
    "pd8U = pd.merge(df12[:], df14[:], how='outer', on=['Term'])\n",
    "pd8I['Term'].size/float(pd8U['Term'].size)"
   ]
  },
  {
   "cell_type": "code",
   "execution_count": 61,
   "metadata": {
    "collapsed": true,
    "slideshow": {
     "slide_type": "skip"
    }
   },
   "outputs": [],
   "source": [
    "newlist = []\n",
    "with open(\"location_50to59.json\") as json_data:\n",
    "    data = json.load(json_data)\n",
    "\n",
    "    for element in data:\n",
    "\n",
    "        if element[\"Count\"] != 1:\n",
    "            newlist.append(element)\n",
    "\n",
    "with open(\"top_words5.json\", \"w\") as outfile:\n",
    "    json.dump(newlist, outfile)\n",
    "\n",
    "json_data.close()\n",
    "outfile.close()"
   ]
  },
  {
   "cell_type": "code",
   "execution_count": 62,
   "metadata": {
    "collapsed": false,
    "slideshow": {
     "slide_type": "subslide"
    }
   },
   "outputs": [
    {
     "data": {
      "text/plain": [
       "0.10920770877944326"
      ]
     },
     "execution_count": 62,
     "metadata": {},
     "output_type": "execute_result"
    }
   ],
   "source": [
    "df15 = pd.read_json('top_words5.json', conn)\n",
    "pd9I = pd.merge(df13[:], df15[:], how='inner', on=['Term'])\n",
    "pd9U = pd.merge(df13[:], df15[:], how='outer', on=['Term'])\n",
    "pd9I['Term'].size/float(pd7U['Term'].size)"
   ]
  },
  {
   "cell_type": "markdown",
   "metadata": {
    "collapsed": true,
    "slideshow": {
     "slide_type": "skip"
    }
   },
   "source": [
    "Although the similarity between the categories 40-49 and 50-59 is still quite significant, the removal of unique locations does lower the score again. "
   ]
  },
  {
   "cell_type": "markdown",
   "metadata": {
    "collapsed": true,
    "slideshow": {
     "slide_type": "slide"
    }
   },
   "source": [
    "# Conclusion"
   ]
  },
  {
   "cell_type": "markdown",
   "metadata": {
    "slideshow": {
     "slide_type": "subslide"
    }
   },
   "source": [
    "- Challenges(AGE):\n",
    "\n",
    "    * NULL values\n",
    "    * False information\n",
    "\n",
    "- Dominant age group: 20-39\n",
    "\n",
    "- Users with an extraordinary activity: even a higher average comment length\n",
    "\n",
    "- Average comment length: 150-300\n",
    "\n",
    "- Challenges(LOCATION):\n",
    "    * NULL values\n",
    "    * Nonsensical location entries\n",
    "    * Users' free choice of location entry\n",
    "\n",
    "- Geographical dominance: Western countries\n",
    "\n",
    "- A forum of young adults from Western countries BUT:\n",
    "\n",
    "    * Older generations compensate their numerical minority with a lot of activity\n",
    "    * Change is underway"
   ]
  },
  {
   "cell_type": "markdown",
   "metadata": {
    "slideshow": {
     "slide_type": "skip"
    }
   },
   "source": [
    "The aim of this paper was to gather information on the lives and online habits of users on a statistics forum. To this end, we focused on two main variables: age and location.\n",
    "First, we wanted to investigate how age was distributed amongst forum users. For this investigate “age” we created nine age ranges (e.g. age range 10-19, 20-29, …). We then sorted all users with a valid age entry in these nine ranges. Most forum user are in their twenties (range 20-29). The second biggest age group consist of people in their thirties. We believe that these users most often encounter statistical challenges in their daily life and are more inclined to rely on digital means of communication to solve certain problems.\n",
    "\n",
    "Second, we wondered whether there was a correlation between the amount of commenting and posting being done by users of a specific age group. In other words, are certain age groups more or less active on the forum? The results were surprising: the majority of commenting was done by age range 10-19, which is significantly smaller in size than age range 20-29. On closer inspection we discovered that the majority of comments came from two users, Glen_B and whuber, respectively aged 13 and 14, who are considered top contributors on the statistics forum. We thought it to be quite strange that two teenagers were the top contributors on a statistics forum. We then looked more closely at these two specific users and soon after discovered that the information they provided concerning their age was false. Indeed, a closer inspection at whuber’s profile reveals that he is a middle-aged statistic consultant and teacher. We do not have an immediate explanation as to why someone would not post their real age online. Is it because they do not want to share their true age? Possibly, but that argument can be refuted by the numerous links whuber posted that refer back to his personal website with –relatively – sensitive information such as hometown, phone number and work address. Perhaps users like whuber chose the first possible date they could enter during registration in order to speed the process up.\n",
    "\n",
    "Returning back to the topic of age and commenting; when we do not consider the two top commenters in our dataset, we observed that most comments were being made by age group 30-39, followed by age group 20-29. \n",
    "\n",
    "Third, we were fascinated by the vast amount of comments made by the two top commenters and wanted to investigate their commenting behaviour more in-depth. Did they post incredibly short comments in order to up their comment tally? Our query revealed that users’ comments usually range between 150 and 300 words. This is no exception for our top contributors, thus proving that they do not post very short comments just to increase their comment count. \n",
    "\n",
    "Fourth, we examined the amount of posts being posted per age range. Here, we discovered that users in age range 30-39 were most active, followed by users in age 20-29. In other words, a similar pattern as before for age ranges and commenting (not including the two top contributors). \n",
    "Overall, it seems that users within age range 30-39 are the most active on the forum when it comes to commenting and posting, followed by users in range 20-29. However, two members in particular are very active, Glen_B and whuber, who both contributed a massive amount of comments to the forum.\n",
    "\n",
    "In terms of geography, the statistics forum is predominantly shaped by users that live in Western countries, especially the ones where English is an official language or at least a well known language amongst its population. Retrieving other information from the location inputs is harder because of the way the statistics forum gathers the location data from their users. \n",
    "First of all, it is not mandatory to fill in a location which is the cause of a lot of NULL-values. Although it might be possible to still learn something about the users' location by examining their profile descriptions, we chose to base our findings about the forum members' geographical locations on the users that did enter some text for their location.\n",
    "\n",
    "Secondly, the data consists of plain text inputs rather than selections from a list of countries. This gives forum users the possibility to write down whatever they feel like, whether it is their country, their province, their city or even a non-existent place. Text mining tools such as word clouds are a partial solution to these issues. Especially when these word clouds for different age groups are compared to each other, they seem to confirm the dominance of users from Western countries but also show an advent of Indian users. The relative importance of forum members with India as their location is first and foremost true for the youngest age groups and is likely to continue in the future. With a relative frequency of about 10% for the ages ranging from 10 to 29, the Indian community is rapidly growing and even larger than the amount of users from the UK for the same age group.\n",
    "\n",
    "In terms of age there is a dominance of users from the categories 20-29 and 30-39. The Jaccard index shows that these users' location inputs are remarkably similar as well, definitely when the unique locations are removed. This means that besides the generational dominance there is a geographical dominance on the forum as well. Yet, change seems to be underway for the forum's demographic composition. This is not only visible in the increasing importance of India as a location but also in the low similarity between the location inputs of users aged between 10 and 19 and those aged between 20 and 29. It is very likely that the current demographic composition of the forum with a dominance of young adults from Western countries will be significantly different within a couple of years time."
   ]
  }
 ],
 "metadata": {
  "anaconda-cloud": {},
  "celltoolbar": "Slideshow",
  "kernelspec": {
   "display_name": "Python [default]",
   "language": "python",
   "name": "python2"
  },
  "language_info": {
   "codemirror_mode": {
    "name": "ipython",
    "version": 2
   },
   "file_extension": ".py",
   "mimetype": "text/x-python",
   "name": "python",
   "nbconvert_exporter": "python",
   "pygments_lexer": "ipython2",
   "version": "2.7.12"
  }
 },
 "nbformat": 4,
 "nbformat_minor": 1
}
